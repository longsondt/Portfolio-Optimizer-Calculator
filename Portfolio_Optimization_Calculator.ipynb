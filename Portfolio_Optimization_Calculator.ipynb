{
  "nbformat": 4,
  "nbformat_minor": 5,
  "metadata": {
    "kernelspec": {
      "display_name": "Python 3",
      "language": "python",
      "name": "python3"
    },
    "language_info": {
      "codemirror_mode": {
        "name": "ipython",
        "version": 3
      },
      "file_extension": ".py",
      "mimetype": "text/x-python",
      "name": "python",
      "nbconvert_exporter": "python",
      "pygments_lexer": "ipython3",
      "version": "3.8.8"
    },
    "colab": {
      "name": "Portfolio Optimization Calculator.ipynb",
      "provenance": [],
      "collapsed_sections": []
    }
  },
  "cells": [
    {
      "cell_type": "code",
      "metadata": {
        "id": "jTX5zE22B5_m"
      },
      "source": [
        "pip install PyPortfolioOpt"
      ],
      "id": "jTX5zE22B5_m",
      "execution_count": null,
      "outputs": []
    },
    {
      "cell_type": "code",
      "source": [
        "pip install yfinance"
      ],
      "metadata": {
        "id": "dJsTiCWW0nRY"
      },
      "id": "dJsTiCWW0nRY",
      "execution_count": null,
      "outputs": []
    },
    {
      "cell_type": "code",
      "source": [
        "pip install pandas"
      ],
      "metadata": {
        "id": "AfUYr8mnDjqT"
      },
      "id": "AfUYr8mnDjqT",
      "execution_count": null,
      "outputs": []
    },
    {
      "cell_type": "code",
      "source": [
        "pip install pandas-datareader"
      ],
      "metadata": {
        "id": "lBlQ5IhXDlTi"
      },
      "id": "lBlQ5IhXDlTi",
      "execution_count": null,
      "outputs": []
    },
    {
      "cell_type": "code",
      "metadata": {
        "id": "6EB96zkZAm1V"
      },
      "source": [
        "!pip install --upgrade pandas-datareader"
      ],
      "id": "6EB96zkZAm1V",
      "execution_count": null,
      "outputs": []
    },
    {
      "cell_type": "code",
      "metadata": {
        "id": "86a3d279"
      },
      "source": [
        "import pandas as pd\n",
        "import numpy as np\n",
        "import pandas_datareader.data as web\n",
        "import yfinance as yf\n",
        "import datetime as datetime\n",
        "from pypfopt import expected_returns, risk_models, objective_functions\n",
        "from pypfopt.efficient_frontier import EfficientFrontier\n",
        "from pypfopt.discrete_allocation import DiscreteAllocation, get_latest_prices"
      ],
      "id": "86a3d279",
      "execution_count": 6,
      "outputs": []
    },
    {
      "cell_type": "markdown",
      "metadata": {
        "id": "d9ac117f"
      },
      "source": [
        "# Step 1. Ask for the available fund, number of securities to be invested and their names"
      ],
      "id": "d9ac117f"
    },
    {
      "cell_type": "code",
      "metadata": {
        "id": "0138aeeb"
      },
      "source": [
        "def get_total_portfolio_value():\n",
        "  \"\"\"\n",
        "  Asks the user for the total number of money (FLOAT) (USD) that \n",
        "  they want to invest in the portfolio. Handles any \n",
        "  misinput from the users. Returns a FLOAT\n",
        "  \"\"\"\n",
        "\n",
        "  while True: \n",
        "    try:\n",
        "      total_portfolio_value = float(input('How much (in USD) will you invest'\\\n",
        "                                          ' in this portfolio? '))\n",
        "    except ValueError:\n",
        "      print('Please enter a number and not words')\n",
        "      continue\n",
        "    if total_portfolio_value < 0:\n",
        "      print('You cannot invest with negative fund...')\n",
        "    else: \n",
        "      break\n",
        "\n",
        "  return total_portfolio_value\n",
        "\n",
        "def get_number_of_securities():\n",
        "  \"\"\"\n",
        "  Asks the user for the total number (INT) of companies that they \n",
        "  want to include in the portfolio. It will handle any misinput from the users.\n",
        "  Returns an INT\n",
        "  \"\"\"\n",
        "\n",
        "  while True:\n",
        "    try: \n",
        "      number_of_securities = int(input('How many different companies will you'\\\n",
        "                                       ' invest in this portfolio? '))\n",
        "    except ValueError:\n",
        "      print('Please enter a number and not words')\n",
        "      continue\n",
        "    if number_of_securities < 0:\n",
        "      print('You cannot have negative number of securities...')\n",
        "    else: \n",
        "      break\n",
        "  return number_of_securities\n",
        "\n",
        "def get_securities(number_of_securities):\n",
        "  \"\"\"\n",
        "  Accepts a (LIST) number of securities, then ask the user for the ticker \n",
        "  symbols of those securities. It will handle any misinput from the users.\n",
        "  Returns a LIST of securities\n",
        "  \"\"\"\n",
        "  securities = []\n",
        "\n",
        "  for number in range(number_of_securities):\n",
        "    while True:\n",
        "      try:\n",
        "          security = input(f'Please type in security {number+1}: ').upper()\n",
        "          ticker = yf.Ticker(security)\n",
        "          ticker_check = ticker.info['longBusinessSummary']\n",
        "          break\n",
        "      except KeyError:\n",
        "          print(\"Please enter a valid ticker symbol\")\n",
        "    securities.append(security)\n",
        "\n",
        "  return securities\n",
        "\n",
        "\n",
        "total_portfolio_value = get_total_portfolio_value()\n",
        "number_of_securities = get_number_of_securities()\n",
        "securities = get_securities(number_of_securities)"
      ],
      "id": "0138aeeb",
      "execution_count": null,
      "outputs": []
    },
    {
      "cell_type": "markdown",
      "metadata": {
        "id": "f20059c1"
      },
      "source": [
        "# Step 2. Get the start and end interval for historical price data"
      ],
      "id": "f20059c1"
    },
    {
      "cell_type": "markdown",
      "source": [
        "## 2.1 Get the start of the period"
      ],
      "metadata": {
        "id": "O7HqaGAGFbw1"
      },
      "id": "O7HqaGAGFbw1"
    },
    {
      "cell_type": "code",
      "metadata": {
        "id": "64efbec9"
      },
      "source": [
        "print('\\n--- Creating starting period ---')"
      ],
      "id": "64efbec9",
      "execution_count": null,
      "outputs": []
    },
    {
      "cell_type": "code",
      "metadata": {
        "id": "7a6e4057"
      },
      "source": [
        "def get_start_period():\n",
        "  \"\"\"\n",
        "  Asks the users the year, month, and date (INT) and convert it into \n",
        "  datetime format. Handles any misinput from the users.\n",
        "  Returns a datetime object\n",
        "  \"\"\"\n",
        "\n",
        "  while True: \n",
        "    try:\n",
        "      start_year = int(input('Please enter the start year: '))\n",
        "    except ValueError: \n",
        "      print('Please do not enter words')\n",
        "      continue\n",
        "    if start_year < 0:\n",
        "      print('You cannot have a negative year...')\n",
        "      continue\n",
        "    elif len(str(start_year)) != 4:\n",
        "      print(\"Please enter the year in the correct format. For example '2001'\")\n",
        "      continue\n",
        "    else: \n",
        "      break \n",
        "\n",
        "  while True: \n",
        "    try:\n",
        "      start_month = int(input('Please enter the start month: '))\n",
        "    except ValueError: \n",
        "      print('Please do not enter words')\n",
        "      continue\n",
        "    if start_month < 0:\n",
        "      print('You cannot have a negative year...')\n",
        "      continue\n",
        "    elif len(str(start_month)) > 2:\n",
        "      print(\"Please enter the month in the correct format. For example '2' or 12\")\n",
        "      continue\n",
        "    else: \n",
        "      break \n",
        "\n",
        "  while True: \n",
        "    try:\n",
        "      start_date = int(input('Please enter the start date: '))\n",
        "    except ValueError: \n",
        "      print('Please do not enter words')\n",
        "      continue\n",
        "    if start_date < 0:\n",
        "      print('You cannot have a negative date...')\n",
        "      continue\n",
        "    elif len(str(start_date)) > 2:\n",
        "      print(\"Please enter the date in the correct format. For example '2' or 12\")\n",
        "      continue\n",
        "    else: \n",
        "      break \n",
        "\n",
        "  start_date = datetime.date(start_year, start_month, start_date)\n",
        "\n",
        "  return start_date\n",
        "\n",
        "\n",
        "start_date = get_start_period()"
      ],
      "id": "7a6e4057",
      "execution_count": null,
      "outputs": []
    },
    {
      "cell_type": "markdown",
      "source": [
        "## 2.2 Get the end of the period"
      ],
      "metadata": {
        "id": "oi1TVcpLFhzb"
      },
      "id": "oi1TVcpLFhzb"
    },
    {
      "cell_type": "code",
      "metadata": {
        "id": "44382a80",
        "colab": {
          "base_uri": "https://localhost:8080/"
        },
        "outputId": "3702f71d-4a76-49a7-ed8a-75eb6c8ffbb0"
      },
      "source": [
        "print('\\n--- Creating ending period ---')"
      ],
      "id": "44382a80",
      "execution_count": 13,
      "outputs": [
        {
          "output_type": "stream",
          "name": "stdout",
          "text": [
            "\n",
            "--- Creating ending period ---\n"
          ]
        }
      ]
    },
    {
      "cell_type": "code",
      "metadata": {
        "id": "06cb2ffb"
      },
      "source": [
        "def get_end_period():\n",
        "  \"\"\"\n",
        "  Asks the users the year, month, and date (INT) and convert it into \n",
        "  datetime format. It will handle any misinput from the users.\n",
        "  Returns a datetime object.\n",
        "  \"\"\"\n",
        "\n",
        "  while True: \n",
        "    try:\n",
        "      end_year = int(input('Please enter the end year: '))\n",
        "    except ValueError: \n",
        "      print('Please do not enter words')\n",
        "      continue\n",
        "    if end_year < 0:\n",
        "      print('You cannot have a negative year...')\n",
        "      continue\n",
        "    elif len(str(end_year)) != 4:\n",
        "      print(\"Please enter the year in the correct format. For example '2001'\")\n",
        "      continue\n",
        "    else: \n",
        "      break \n",
        "\n",
        "  while True: \n",
        "    try:\n",
        "      end_month = int(input('Please enter the end month: '))\n",
        "    except ValueError: \n",
        "      print('Please do not enter words')\n",
        "      continue\n",
        "    if end_month < 0:\n",
        "      print('You cannot have a negative year...')\n",
        "      continue\n",
        "    elif len(str(end_month)) > 2:\n",
        "      print(\"Please enter the month in the correct format. For example '2' or 12\")\n",
        "      continue\n",
        "    else: \n",
        "      break \n",
        "\n",
        "  while True: \n",
        "    try:\n",
        "      end_date = int(input('Please enter the end date: '))\n",
        "    except ValueError: \n",
        "      print('Please do not enter words')\n",
        "      continue\n",
        "    if end_date < 0:\n",
        "      print('You cannot have a negative date...')\n",
        "      continue\n",
        "    elif len(str(end_date)) > 2:\n",
        "      print(\"Please enter the date in the correct format. For example '2' or 12\")\n",
        "      continue\n",
        "    else: \n",
        "      break \n",
        "\n",
        "  end_date = datetime.date(end_year, end_month, end_date)\n",
        "\n",
        "  return end_date\n",
        "\n",
        "\n",
        "end_date = get_end_period()"
      ],
      "id": "06cb2ffb",
      "execution_count": null,
      "outputs": []
    },
    {
      "cell_type": "markdown",
      "metadata": {
        "id": "8c8804b6"
      },
      "source": [
        "## 2.3 Get the price data within the start and end interval"
      ],
      "id": "8c8804b6"
    },
    {
      "cell_type": "code",
      "metadata": {
        "id": "ceab2b2a"
      },
      "source": [
        "def get_price_data(start_date, end_date, securities):\n",
        "  \"\"\"\n",
        "  Accepts start_date, end_date and LIST of securities. \n",
        "  Based on that, Returns a pandas dataframe of the historical price data for \n",
        "  all the securities in the list from the start to end date. \n",
        "  \"\"\"\n",
        "\n",
        "  daily_adjclose_df = pd.DataFrame()\n",
        "\n",
        "  for security in securities:\n",
        "      daily_adjclose_df[security] = web.DataReader(security, data_source='yahoo', start = start_date, end = end_date)['Adj Close']\n",
        "\n",
        "  return daily_adjclose_df\n",
        "\n",
        "\n",
        "daily_adjclose_df = get_price_data(start_date, end_date, securities)"
      ],
      "id": "ceab2b2a",
      "execution_count": 45,
      "outputs": []
    },
    {
      "cell_type": "markdown",
      "source": [
        "# Step 2. Calculate the expected returns of each ticker \n"
      ],
      "metadata": {
        "id": "9PoLwwWUIld1"
      },
      "id": "9PoLwwWUIld1"
    },
    {
      "cell_type": "markdown",
      "source": [
        "## 2.1 Provide the users with preliminary information on the available methods that we could use for calculating expected returns"
      ],
      "metadata": {
        "id": "47qCy6NN3sHT"
      },
      "id": "47qCy6NN3sHT"
    },
    {
      "cell_type": "code",
      "metadata": {
        "id": "av4hAwXfSSHJ"
      },
      "source": [
        "def expected_returns_intro_text():\n",
        "  \"\"\"\n",
        "  Provides introduction to the different methods available for estimating\n",
        "  expected returns of each stock. \n",
        "  \"\"\"\n",
        "\n",
        "  print('\\n--- Estimating expected returns ---\\n')\n",
        "  print('This calculator offers three ways to estimate the'\\\n",
        "        ' expected returns of each stock: ')\n",
        "  print('1. Using the mean of historical returns')\n",
        "  print('2. Using the exponentially weighted mean (EMA) of historical returns')\n",
        "  print('3. Using the CAPM method to estimate the expected returns')\n",
        "\n",
        "\n",
        "expected_returns_intro_text()\n",
        "\n",
        "def er_method_brief_explanation():\n",
        "  \"\"\"\n",
        "  Provides the option to read a brief explanation about each available method\n",
        "  for estimating the expected returns. \n",
        "  \"\"\"\n",
        "\n",
        "  while True:\n",
        "    er_info = input(\"\\nFor brief explanation of any of the method,\"\\\n",
        "                    \" type 'Y' for yes, or else, type 'N' for no: \")\n",
        "    if er_info.upper() not in ('Y', 'N'):\n",
        "      print(\"Please input either 'Y' or 'N'\")\n",
        "      continue\n",
        "    elif er_info.upper() == 'Y':\n",
        "      while True: \n",
        "        print('\\nWhich method would you want a brief explanation about? ')\n",
        "        while True: \n",
        "          method = input(\"Type '1' for the first method, type '2' for\"\\\n",
        "                         \" the second, and '3' for the third one: \")\n",
        "          if method not in ('1', '2', '3'):\n",
        "            print(\"Please input either '1', '2', or '3'\")\n",
        "            continue\n",
        "          elif method == '1':\n",
        "            print('\\METHOD 1. The mean historical return method uses the'\\\n",
        "                  ' daily adjusted closing price data within the time'\\\n",
        "                  ' interval specified by you, and calculate the'\\\n",
        "                  ' annualized average return of each stock.')\n",
        "            break\n",
        "          elif method == '2':\n",
        "            print('\\METHOD 2. The EMA historical return method uses the'\\\n",
        "                  ' daily adjusted closing price data within the time interval'\\\n",
        "                  ' specified by you, and calculate the'\\\n",
        "                  ' annualized average return of each stock.'\\\n",
        "                  ' HOWEVER, giving more weight to more recent data.')\n",
        "            break\n",
        "          elif method == '3':\n",
        "            print('\\METHOD 3. This method uses the CAPM formula to estimates'\\\n",
        "                  ' the expected return of each stock:')\n",
        "            print('Expected return = risk_free rate + beta of the company *'\\\n",
        "                    '(market risk premium - risk_free rate)')\n",
        "            break\n",
        "        while True:\n",
        "          continue_explain = input(\"\\nDo you want to know more about the\"\\\n",
        "                                   \" other methods? Input 'Y' for yes or\"\\\n",
        "                                   \" 'N' for no: \")\n",
        "          if continue_explain.upper() not in ('Y', 'N'):\n",
        "            print(\"Please input either 'Y' or 'N'\")\n",
        "            continue\n",
        "          else: \n",
        "            break\n",
        "        if continue_explain.upper() == 'N':\n",
        "          break\n",
        "        elif continue_explain.upper() == 'Y':\n",
        "          continue\n",
        "      break\n",
        "    elif er_info.upper() == 'N':\n",
        "      break\n",
        "\n",
        "\n",
        "er_method_brief_explanation()\n"
      ],
      "id": "av4hAwXfSSHJ",
      "execution_count": null,
      "outputs": []
    },
    {
      "cell_type": "markdown",
      "source": [
        "## 2.2 Choose a method and calculate our expected returns"
      ],
      "metadata": {
        "id": "mck-ekcH31wC"
      },
      "id": "mck-ekcH31wC"
    },
    {
      "cell_type": "code",
      "source": [
        "def get_expected_returns(daily_adjclose_df):\n",
        "  \"\"\"\n",
        "  Accepts the pandas dataframe daily_adjclose_df, then asks the users for the \n",
        "  method to be used for estimating expected returns. Handlles any misinput\n",
        "  from the users. Returns a date type object of ticker symbols and their\n",
        "  expected returns\n",
        "  \"\"\"\n",
        "  mu = 0 \n",
        "\n",
        "  while True: \n",
        "    choice = input(\"\\nTo choose a method to estimate expected returns,\"\\\n",
        "                   \" input '1' for the first method, '2' for the second,\"\\\n",
        "                   \" and '3' for the third: \")\n",
        "    if choice not in ('1', '2', '3'):\n",
        "      print(\"Please input either '1', '2', or '3'\")\n",
        "      continue\n",
        "    elif choice == '1':\n",
        "      print('Estimating expected returns based on mean historical returns...')\n",
        "      mu = expected_returns.mean_historical_return(daily_adjclose_df)\n",
        "      print('DONE')\n",
        "      break\n",
        "    elif choice == '2':\n",
        "      print('Estimating expected returns based on EMA historical returns...\\n')\n",
        "      print('How recent do you want to give more weight to?')\n",
        "      print('The default value is 500 days. However, the higher the days, '\\\n",
        "            'the more similar this method is to the first method')\n",
        "      span = int(input(\"\\nPlease input an integer.\" \n",
        "            \" For example, '365' means giving more \"\\\n",
        "            \"weight to the last 365 trading days: \"))\n",
        "      mu = expected_returns.ema_historical_return(daily_adjclose_df)\n",
        "      print('DONE')\n",
        "      break\n",
        "    elif choice == '3':\n",
        "      print('\\nEstimating expected returns based on CAPM...')\n",
        "      mu = expected_returns.capm_return(daily_adjclose_df)\n",
        "      print('DONE')\n",
        "      break\n",
        "  return mu \n",
        "\n",
        "mu = get_expected_returns(daily_adjclose_df)"
      ],
      "metadata": {
        "id": "kGeSsUX51yKL"
      },
      "id": "kGeSsUX51yKL",
      "execution_count": null,
      "outputs": []
    },
    {
      "cell_type": "markdown",
      "source": [
        "# Step 3. Calculate our risk model (covariance matrix)"
      ],
      "metadata": {
        "id": "Afrri7vBJkhc"
      },
      "id": "Afrri7vBJkhc"
    },
    {
      "cell_type": "markdown",
      "source": [
        "## 3.1 Provide the users with preliminary information on the available methods that we could use for calculating the covariance matrix"
      ],
      "metadata": {
        "id": "26VXp9aT5Is1"
      },
      "id": "26VXp9aT5Is1"
    },
    {
      "cell_type": "code",
      "metadata": {
        "id": "bIciAvSgSjkN"
      },
      "source": [
        "def risk_model_intro_text():\n",
        "  \"\"\"\n",
        "  Provides introduction to the different methods available for calculating \n",
        "  the covariance matrix\n",
        "  \"\"\"\n",
        "\n",
        "    print('\\n--- Calculating risk model ---\\n')\n",
        "    print('This calculator offers three ways to estimate the' \\\n",
        "          ' expected returns of each stock: ')\n",
        "    print('1. Using the sample covariance matrix')\n",
        "    print('2. Using the exponentially weighted covariance matrix')\n",
        "    print('3. Using the shrunk covariance matrices, specifically the' \\\n",
        "          ' Ledoit Wolf constant variance shrinkage method')\n",
        "\n",
        "\n",
        "risk_model_intro_text()\n",
        "\n",
        "\n",
        "def rm_method_brief_explanation():\n",
        "  \"\"\"\n",
        "  Provides the option to read a brief explanation about each available method\n",
        "  for calculating the covariance matrix\n",
        "  \"\"\"\n",
        "\n",
        "  while True:\n",
        "    rm_info = input(\"\\nFor brief explanation of any of the method,\"\\\n",
        "                    \" type 'Y' for yes, or else, type 'N' for no: \")\n",
        "    if rm_info.upper() not in ('Y', 'N'):\n",
        "      print(\"Please input either 'Y' or 'N'\")\n",
        "      continue\n",
        "    elif rm_info.upper() == 'Y':\n",
        "      while True: \n",
        "        print('\\nWhich method would you want a brief explanation about? ')\n",
        "        while True: \n",
        "          method = input(\"Type '1' for the first method, type '2'\"\\\n",
        "                         \" for the second, and '3' for the third one: \")\n",
        "          if method not in ('1', '2', '3'):\n",
        "            print(\"Please input either '1', '2', or '3'\\n\")\n",
        "            continue\n",
        "          elif method == '1':\n",
        "            print('\\nMETHOD 1. This method creates a covariance matrix,'\\\n",
        "                  ' using the daily adjusted closing price data, by simply'\\\n",
        "                  ' calculating the sample covariances between each stock.'\\\n",
        "                  ' For calculating a risk model, this is the most'\\\n",
        "                  ' simple method and therefore is not recommeded.')\n",
        "            break\n",
        "          elif method == '2':\n",
        "            print('\\nMETHOD 2. This method creates a covariance matrix,'\\\n",
        "                  ' using the daily adjusted closing price data,' \\\n",
        "                  ' by calculating the sample covariances between each stock,'\\\n",
        "                  ' but also giving more weight to more recent data.')\n",
        "            break\n",
        "          elif method == '3':\n",
        "            print('\\nMETHOD 3. A more detailed and technical explanation'\\\n",
        "                  ' of this method can be found here: '\\\n",
        "                  'https://reasonabledeviations.com/notes/papers/ledoit_wolf_covariance/')\n",
        "            print('\\nIn short, this method is superior compared to both'\\\n",
        "                  ' other methods. It is the result of compromising between'\\\n",
        "                  ' an unstrcutred and structured covariance estimator to'\\\n",
        "                  ' create one that has an overall lower'\\\n",
        "                  ' estimation error and bias.')\n",
        "            break\n",
        "        while True:\n",
        "          continue_explain = input(\"\\nDo you want to know more about the other \"\\\n",
        "                                   \"methods? Input 'Y' for yes or 'N' for no: \")\n",
        "          if continue_explain.upper() not in ('Y', 'N'):\n",
        "            print(\"Please input either 'Y' or 'N'\")\n",
        "            continue\n",
        "          else:\n",
        "            break\n",
        "        if continue_explain.upper() == 'N':\n",
        "          break\n",
        "        elif continue_explain.upper() == 'Y':\n",
        "          continue\n",
        "      break\n",
        "    elif rm_info.upper() == 'N':\n",
        "      break\n",
        "\n",
        "rm_method_brief_explanation()"
      ],
      "id": "bIciAvSgSjkN",
      "execution_count": null,
      "outputs": []
    },
    {
      "cell_type": "markdown",
      "source": [
        "## 3.2 Choose a method and calculate our risk model (covariance matrix)"
      ],
      "metadata": {
        "id": "oqKoSDmU5Ohd"
      },
      "id": "oqKoSDmU5Ohd"
    },
    {
      "cell_type": "code",
      "source": [
        "def get_risk_model(daily_adjclose_df):\n",
        "  \"\"\"\n",
        "  Accepts the pandas dataframe daily_adjclose_df, then asks the users for the \n",
        "  method to be used for calculating covariance matrix. Handlles any misinput\n",
        "  from the users. Returns a data type of the covariance matrix of the securities\n",
        "  \"\"\"\n",
        "  \n",
        "  covariance_matrix = 0 \n",
        "\n",
        "  while True: \n",
        "    choice = input(\"\\nTo choose a method to calculate our risk model,\"\\\n",
        "                   \" input '1' for the first method, '2' for the second\"\\\n",
        "                   \" and '3' for the third: \")\n",
        "    if choice not in ('1', '2', '3'):\n",
        "      print(\"Please input either '1', '2', or '3'\")\n",
        "      continue\n",
        "    elif choice == '1':\n",
        "      print('\\nCalculating our risk model using the sample covariance matrix...')\n",
        "      covariance_matrix = risk_models.sample_cov(daily_adjclose_df)\n",
        "      print('DONE')\n",
        "      break\n",
        "    elif choice == '2':\n",
        "      print('\\nCalculating our risk model using the exponentially weighted'\\\n",
        "            'covariance matrix...')\n",
        "      print('\\nHow recent do you want to give more weight to?')\n",
        "      print('The default value is 180 days. However, the higher the days, '\\\n",
        "            'the more similar this method is to the first method')\n",
        "      print('The days input here should also be the same as the date input'\\\n",
        "            ' for EMA historical return, if you had chosen that method.')\n",
        "      span = int(input(\"\\nPlease input an integer.\" \n",
        "            \" For example, '365' means giving more \"\\\n",
        "            \"weight to the last 365 trading days: \"))\n",
        "      covariance_matrix = risk_models.exp_cov(daily_adjclose_df)\n",
        "      print('DONE')\n",
        "      break\n",
        "    elif choice == '3':\n",
        "      print('\\nCalculating our risk model using the'\\\n",
        "            ' Ledoit Wolf constant variance shrinkage method...')\n",
        "      covariance_matrix = risk_models.risk_matrix(daily_adjclose_df, \\\n",
        "                          method='ledoit_wolf_constant_variance')\n",
        "      print('DONE')\n",
        "      break\n",
        "\n",
        "  # Fix the covariance matrix if it is not positive semidefinite    \n",
        "  covariance_matrix_fix = risk_models.fix_nonpositive_semidefinite(covariance_matrix)\n",
        "\n",
        "  return covariance_matrix_fix \n",
        "\n",
        "\n",
        "covariance_matrix = get_risk_model(daily_adjclose_df)"
      ],
      "metadata": {
        "id": "iGn7Loal5C9-"
      },
      "id": "iGn7Loal5C9-",
      "execution_count": null,
      "outputs": []
    },
    {
      "cell_type": "markdown",
      "source": [
        "# Step 4. Optimize our portfolio"
      ],
      "metadata": {
        "id": "r_GPmyZCJrnM"
      },
      "id": "r_GPmyZCJrnM"
    },
    {
      "cell_type": "markdown",
      "source": [
        "## 4.1 Ask whether if there is a weight requirement (min/max) for each stock\n"
      ],
      "metadata": {
        "id": "OZVnk57V8Jw_"
      },
      "id": "OZVnk57V8Jw_"
    },
    {
      "cell_type": "code",
      "metadata": {
        "id": "RtSyJH11hSO2"
      },
      "source": [
        "def get_weight_bounds(securities): \n",
        "  \"\"\"\n",
        "  Accepts the LIST of securities. Asks the user whether they want to specify \n",
        "  weight bounds for the securities. Returns a list of tuples, or None. \n",
        "  \"\"\"\n",
        "  \n",
        "  print(\"\\nBefore getting our asset allocation, do you have\"\\\n",
        "      \" any requirement about the allocation of each\"\\\n",
        "      \" stock? For example, you can require minimum\"\\\n",
        "      \" weight of all stock to be 20% and maximum to be\"\\\n",
        "      \" 80% of the portfolio, or you can specify a different \"\\\n",
        "      \" weight requirement for each company.\")\n",
        "  \n",
        "  min = 0 \n",
        "  max = 0\n",
        "  while True:\n",
        "    weight_requirement = input(\"Input 'Y' for yes, or 'N for no: \")\n",
        "    if weight_requirement.upper() not in ('Y', 'N'):\n",
        "      print(\"\\nPlease input either 'Y' or 'N'\")\n",
        "      continue  \n",
        "    elif weight_requirement.upper() == 'Y':\n",
        "      print('\\nDo you want to set the min/max weight the same for all stock'\\\n",
        "            ' or for each stock?')\n",
        "      while True:\n",
        "        all_or_each = input(\"Input either 'all' or 'each': \")\n",
        "        if all_or_each.upper() not in ('ALL', 'EACH'):\n",
        "          print(\"'Please only input either 'all' or 'each'\")\n",
        "          continue\n",
        "        elif all_or_each.upper() == 'ALL':\n",
        "          while True:\n",
        "            try:\n",
        "              min = float(input(\"Please input the minimum weight.\"\\\n",
        "                                \" For example, '0.2' for 20%: \"))\n",
        "              max = float(input(\"Please input the maximum weight.\"\\\n",
        "                                \" For example, '0.8' for 80%: \"))\n",
        "            except ValueError:\n",
        "              print(\"Please enter the value in the format\"\\\n",
        "                    \" shown in the examples\")\n",
        "              continue\n",
        "            if min < 0.0 or max > 1:\n",
        "              print(\"The minimum weight cannot be\"\\\n",
        "                    \" lower than '0' and the maximum weight\"\\\n",
        "                    \" cannot be larger than '1'\")\n",
        "              continue\n",
        "            else:\n",
        "              weight_bounds_all = (min, max)\n",
        "              break\n",
        "            break\n",
        "          break\n",
        "        elif all_or_each.upper() == 'EACH':\n",
        "          weight_bounds_each = []\n",
        "          for security in securities: \n",
        "            print(f'\\nFor {security}: ')\n",
        "            while True:\n",
        "              try: \n",
        "                min = float(input(\"Please input the minimum weight.\"\\\n",
        "                                  \" For example, '0.2' for 20%: \"))\n",
        "                max = float(input(\"Please input the maximum weight.\"\\\n",
        "                                  \" For example, '0.8' for 80%: \"))\n",
        "              except ValueError:\n",
        "                print(\"Please enter the value in the format\"\\\n",
        "                      \" shown in the examples\")\n",
        "                continue\n",
        "              if min < 0.0 or max > 1:\n",
        "                print(\"The minimum weight cannot be lower than '0'\"\\\n",
        "                      \" and the maximum weight cannot be larger than '1'\")\n",
        "                continue\n",
        "              else: \n",
        "                weight_bounds_each.append((min, max))\n",
        "                break \n",
        "          break\n",
        "      break\n",
        "    elif weight_requirement.upper() == 'N':\n",
        "      break\n",
        "\n",
        "  if weight_requirement.upper() == 'Y':\n",
        "    if all_or_each.upper() == 'ALL':\n",
        "      return weight_bounds_all\n",
        "    elif all_or_each.upper() == 'EACH':\n",
        "      return weight_bounds_each\n",
        "  elif weight_requirement.upper() == 'N':\n",
        "    return None\n",
        "\n",
        "weight_bounds = get_weight_bounds(securities)"
      ],
      "id": "RtSyJH11hSO2",
      "execution_count": null,
      "outputs": []
    },
    {
      "cell_type": "markdown",
      "source": [
        "# 4.2 Generating our efficient frontier object (not relevant to the users)"
      ],
      "metadata": {
        "id": "U95SWVZPmRDy"
      },
      "id": "U95SWVZPmRDy"
    },
    {
      "cell_type": "code",
      "source": [
        "def get_efficient_frontier_object(mu, covariance_matrix, weight_bounds):\n",
        "  \"\"\"\n",
        "  Accepts data type objects mu, covariance_matrix, and list of tuples or None. \n",
        "  Returns EfficientFrontier object created by the PyPortfolioOpt library.\n",
        "  \"\"\"\n",
        "\n",
        "  # Set default weight bound if user chooses not to set it themselves\n",
        "  if weight_bounds == None:\n",
        "    weight_bounds = (0,1)\n",
        "\n",
        "  efficient_frontier_object = EfficientFrontier(mu, covariance_matrix, weight_bounds)\n",
        "  efficient_frontier_object.add_objective(objective_functions.L2_reg, gamma=0.1)\n",
        "\n",
        "  return efficient_frontier_object\n",
        "\n",
        "\n",
        "efficient_frontier_object = get_efficient_frontier_object(mu, covariance_matrix, weight_bounds)"
      ],
      "metadata": {
        "id": "Ych-QfN_mZPB"
      },
      "id": "Ych-QfN_mZPB",
      "execution_count": null,
      "outputs": []
    },
    {
      "cell_type": "markdown",
      "source": [
        "## 4.3 Provide preliminary information on the available methods that we could use to optimize our portfolio "
      ],
      "metadata": {
        "id": "09NnjED5ZSja"
      },
      "id": "09NnjED5ZSja"
    },
    {
      "cell_type": "code",
      "source": [
        "def optimizing_method_text():\n",
        "  \"\"\"\n",
        "  Provides introduction to the different methods available for mean-variance \n",
        "  optimization of the portfolio.\n",
        "  \"\"\"\n",
        "    print('--- Optimizing your portfolio ---\\n')\n",
        "    print('This calculator offers four different goals to optimize' \\\n",
        "          ' your portfolio: ')\n",
        "    print('1. Optimizes for maximum Sharpe ratio')\n",
        "    print('2. Optimizes for minimum portfolio volatility')\n",
        "    print('3. Optimizes for efficient risk')\n",
        "    print('4. Optimizes for efficient return')\n",
        "\n",
        "\n",
        "optimizing_method_text()\n",
        "\n",
        "def optimizing_method_brief_explanation():\n",
        "  \"\"\"\n",
        "  Provides the option to read a brief explanation about each available method\n",
        "  for optimizing the portfolio\n",
        "  \"\"\"\n",
        "\n",
        "  while True:\n",
        "    opt_info = input(\"\\nFor brief explanation of any of the method, type 'Y' \"\n",
        "                    \"for yes, or else, type 'N' for no: \")\n",
        "    if opt_info.upper() not in ('Y', 'N'):\n",
        "      print(\"Please input either 'Y' or 'N'\")\n",
        "      continue\n",
        "    elif opt_info.upper() == 'Y':\n",
        "      while True: \n",
        "        print('\\nWhich method would you want a brief explanation about? ')\n",
        "        while True: \n",
        "          method = input(\"Type '1' for the first method, '2' for the second,\"\\\n",
        "                         \" '3' for the third, and '4' for the fourth one: \")\n",
        "          if method not in ('1', '2', '3', '4'):\n",
        "            print(\"Please input either '1', '2', '3', or '4'\")\n",
        "            continue\n",
        "          elif method == '1':\n",
        "            print('\\nMETHOD 1. Sharpe ratio is the excess in return by holding'\\\n",
        "                  ' risky asset for the extra volatility\\n')\n",
        "            print('Sharpe ratio = (portfolio return - risk_free rate) / '\\\n",
        "                  'portfolio volatility\\n')\n",
        "            print('This method generates all possible combination of '\\\n",
        "                  ' asset weight allocation (not including shorts), calculate'\\\n",
        "                  'the portfolio return and volatitlity, and chooses the '\\\n",
        "                  'combination that results in the highest Sharpre ratio')\n",
        "            break\n",
        "          elif method == '2':\n",
        "            print('\\nMETHOD 2. This method aims to create a portfolio with'\\\n",
        "                  ' the minimum volatity')\n",
        "            break\n",
        "          elif method == '3':\n",
        "            print('\\nMETHOD 3. This method will try to maximize the portfolio'\\\n",
        "                  ' return with a given target volatility')\n",
        "            break\n",
        "          elif method == '4':\n",
        "            print('\\nMETHOD 4. This method will try to minimize the portfolio'\\\n",
        "                  ' volatility with a given target return')\n",
        "            break  \n",
        "        while True: \n",
        "          continue_explain = input(\"\\nDo you want to know more about the other \"\n",
        "                                 \"method? Input 'Y' for yes or 'N' for no: \")\n",
        "          if continue_explain.upper() not in ('Y', 'N'):\n",
        "            print(\"Please input either 'Y' or 'N'\")\n",
        "            continue\n",
        "          else: \n",
        "            break\n",
        "        if continue_explain.upper() == 'N':\n",
        "          break\n",
        "        elif continue_explain.upper() == 'Y':\n",
        "          continue\n",
        "      break\n",
        "    elif opt_info.upper() == 'N':\n",
        "      break\n",
        "\n",
        "\n",
        "optimizing_method_brief_explanation()"
      ],
      "metadata": {
        "id": "xRFY5xc1ZR5L"
      },
      "id": "xRFY5xc1ZR5L",
      "execution_count": null,
      "outputs": []
    },
    {
      "cell_type": "markdown",
      "source": [
        "## 4.4 Choose our optimizing method and calculate the optimal weight distribution of each stock"
      ],
      "metadata": {
        "id": "zphEPBlFjnuS"
      },
      "id": "zphEPBlFjnuS"
    },
    {
      "cell_type": "code",
      "source": [
        "def optimizes(efficient_frontier_object):\n",
        "  \"\"\"\n",
        "  Accepts the EfficientFrontier object, then asks the users for the \n",
        "  method to be used for optimizing the portfolio. Handlles any misinput\n",
        "  from the users. Returns an OrderedDict of ticker symbols and their weight \n",
        "  distribution\"\n",
        "  \"\"\"\n",
        "\n",
        "  asset_weight_allocation = 0 \n",
        "\n",
        "  while True: \n",
        "    choice = input(\"To choose a method to optimize your portfolio, input '1' \"\n",
        "                   \"for the first method, '2' for the second, \"\\\n",
        "                   \"'3' for the third, or '4' for the fourth: \")\n",
        "    if choice not in ('1', '2', '3', '4'):\n",
        "      print(\"Please input either '1', '2', '3', or '4'\")\n",
        "      continue\n",
        "    elif choice == '1':\n",
        "      print('Optimizing for maximum Sharpe ratio...')\n",
        "      asset_weight_allocation = efficient_frontier_object.max_sharpe()\n",
        "      print('DONE')\n",
        "      break\n",
        "    elif choice == '2':\n",
        "      print('Optimizes for minimum portfolio volatility...')\n",
        "      asset_weight_allocation = efficient_frontier_object.min_volatility()\n",
        "      print('DONE')\n",
        "      break\n",
        "    elif choice == '3':\n",
        "      print('Optimizing for efficient risk...')\n",
        "      while True:\n",
        "        try: \n",
        "          target_volatility = float(input(\"Please input your desired portfolio volatlity.\"\\\n",
        "                                          \" For example, '0.3' for at most 30% annual volatility: \"))\n",
        "        except ValueError:\n",
        "          print(\"Please enter the value in the format shown in the examples\")\n",
        "          continue\n",
        "        if float(target_volatility) < 0.0 or target_volatility > 1:\n",
        "          print(\"The target volatility cannot be lower than 0 or larger than 1\")\n",
        "          continue\n",
        "        else:\n",
        "          asset_weight_allocation = efficient_frontier_object.efficient_risk(target_volatility)\n",
        "          print('DONE')\n",
        "          break \n",
        "      break\n",
        "    elif choice == '4':\n",
        "      print('Optimizing for efficient return...')\n",
        "      while True:\n",
        "        try: \n",
        "          target_return = float(input(\"Please input your desired portfolio return.\"\\\n",
        "                                        \" For example, '0.3' for at least 30% annual return: \"))\n",
        "        except ValueError:\n",
        "          print(\"Please enter the value in the format shown in the examples\")\n",
        "          continue\n",
        "        if float(target_return) < 0.0 or target_return > 1:\n",
        "          print(\"The target volatility cannot be lower than 0 or larger than 1\")\n",
        "          continue\n",
        "        else:\n",
        "          asset_weight_allocation = efficient_frontier_object.efficient_return(target_return)\n",
        "          break \n",
        "          print('DONE')\n",
        "      break\n",
        "\n",
        "  return asset_weight_allocation\n",
        "\n",
        "\n",
        "efficient_frontier_object = get_efficient_frontier_object(mu, covariance_matrix, weight_bounds)\n",
        "asset_weight_allocation = optimizes(efficient_frontier_object)"
      ],
      "metadata": {
        "id": "pYK0oEsnjkyS"
      },
      "id": "pYK0oEsnjkyS",
      "execution_count": null,
      "outputs": []
    },
    {
      "cell_type": "markdown",
      "source": [
        "## 4.5 Calculate the optimal discrete allocation of each ticker"
      ],
      "metadata": {
        "id": "8mJ4bM70JyXU"
      },
      "id": "8mJ4bM70JyXU"
    },
    {
      "cell_type": "code",
      "metadata": {
        "id": "YswAsYzjTW_H"
      },
      "source": [
        "def get_discrete_allocation (asset_weight_allocation):\n",
        "  \"\"\"\n",
        "  Accepts the OrderedDict of asset_weight_allocation, finds the latest prices of\n",
        "  each security in the portfolio and calculate the discrete allocation of each \n",
        "  ticker. Returns a tuple that includes a dicitonary of (KEYS) ticker symbols\n",
        "  and (VALUES) of INT, and FLOAT remaining money.\n",
        "  \"\"\"\n",
        "\n",
        "  latest_prices = get_latest_prices(daily_adjclose_df)\n",
        "  discrete_allocation_object = DiscreteAllocation(asset_weight_allocation, latest_prices, total_portfolio_value)\n",
        "  greedy_allocation = discrete_allocation_object.greedy_portfolio()\n",
        "\n",
        "  return greedy_allocation\n",
        "\n",
        "\n",
        "portfolio_discrete_allocation = get_discrete_allocation (asset_weight_allocation)\n",
        "print(portfolio_discrete_allocation)\n"
      ],
      "id": "YswAsYzjTW_H",
      "execution_count": null,
      "outputs": []
    },
    {
      "cell_type": "markdown",
      "source": [
        "# Step 5. Display the results and expected performance of the optimized portfolio"
      ],
      "metadata": {
        "id": "fh_X1rPQHxR1"
      },
      "id": "fh_X1rPQHxR1"
    },
    {
      "cell_type": "code",
      "source": [
        "def display_weight_allocation(portfolio_discrete_allocation):\n",
        "  \"\"\"\n",
        "  Accepts the OrderedDict discrete portfolio allocaion and prints out the\n",
        "  information to the users \n",
        "  \"\"\"\n",
        "\n",
        "  print(f'With ${total_portfolio_value:,.0f} you could buy:')\n",
        "  for ticker, number_of_stock in portfolio_discrete_allocation[0].items():\n",
        "    print(f'{number_of_stock} {ticker}')\n",
        "  print(f'and still have ${portfolio_discrete_allocation[1]:.2f} left')\n",
        "\n",
        "display_weight_allocation(portfolio_discrete_allocation)"
      ],
      "metadata": {
        "id": "RXqO6-Nu_DzV"
      },
      "id": "RXqO6-Nu_DzV",
      "execution_count": null,
      "outputs": []
    },
    {
      "cell_type": "code",
      "metadata": {
        "id": "CEGlkwrsPFjh"
      },
      "source": [
        "def print_portfolio_performance():\n",
        "  \"\"\"\n",
        "  Calculates the expected annual return and volatility of the portfolio, and \n",
        "  its Sharpe ratio, and print out the information to the users\n",
        "  \"\"\"\n",
        "\n",
        "  performance = efficient_frontier_object.portfolio_performance(verbose=False)\n",
        "  print(f'Expected annual return of this portfolio: {performance[0]*100:.1f}%')\n",
        "  print(f'Expected annual volatility of this portfolio: {performance[1]*100:.1f}%')\n",
        "  print(f'Sharpe Ratio: {performance[2]:.2f}')\n",
        "\n",
        "print_portfolio_performance()"
      ],
      "id": "CEGlkwrsPFjh",
      "execution_count": null,
      "outputs": []
    }
  ]
}