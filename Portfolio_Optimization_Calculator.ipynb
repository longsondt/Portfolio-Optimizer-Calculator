{
  "nbformat": 4,
  "nbformat_minor": 5,
  "metadata": {
    "kernelspec": {
      "display_name": "Python 3",
      "language": "python",
      "name": "python3"
    },
    "language_info": {
      "codemirror_mode": {
        "name": "ipython",
        "version": 3
      },
      "file_extension": ".py",
      "mimetype": "text/x-python",
      "name": "python",
      "nbconvert_exporter": "python",
      "pygments_lexer": "ipython3",
      "version": "3.8.8"
    },
    "colab": {
      "name": "Portfolio Optimization Calculator.ipynb",
      "provenance": [],
      "collapsed_sections": []
    }
  },
  "cells": [
    {
      "cell_type": "code",
      "metadata": {
        "id": "jTX5zE22B5_m",
        "colab": {
          "base_uri": "https://localhost:8080/"
        },
        "outputId": "6123fc60-6d1e-48a3-cf2b-17ea33e68b44"
      },
      "source": [
        "pip install PyPortfolioOpt"
      ],
      "id": "jTX5zE22B5_m",
      "execution_count": 1,
      "outputs": [
        {
          "output_type": "stream",
          "name": "stdout",
          "text": [
            "Collecting PyPortfolioOpt\n",
            "  Downloading PyPortfolioOpt-1.5.1-py3-none-any.whl (61 kB)\n",
            "\u001b[?25l\r\u001b[K     |█████▍                          | 10 kB 19.9 MB/s eta 0:00:01\r\u001b[K     |██████████▊                     | 20 kB 7.5 MB/s eta 0:00:01\r\u001b[K     |████████████████                | 30 kB 7.2 MB/s eta 0:00:01\r\u001b[K     |█████████████████████▍          | 40 kB 6.8 MB/s eta 0:00:01\r\u001b[K     |██████████████████████████▊     | 51 kB 5.3 MB/s eta 0:00:01\r\u001b[K     |████████████████████████████████| 61 kB 3.2 MB/s \n",
            "\u001b[?25hRequirement already satisfied: scipy<2.0,>=1.3 in /usr/local/lib/python3.7/dist-packages (from PyPortfolioOpt) (1.4.1)\n",
            "Requirement already satisfied: numpy<2.0,>=1.12 in /usr/local/lib/python3.7/dist-packages (from PyPortfolioOpt) (1.19.5)\n",
            "Requirement already satisfied: pandas>=0.19 in /usr/local/lib/python3.7/dist-packages (from PyPortfolioOpt) (1.1.5)\n",
            "Collecting cvxpy<2.0.0,>=1.1.10\n",
            "  Downloading cvxpy-1.1.18-cp37-cp37m-manylinux_2_24_x86_64.whl (2.7 MB)\n",
            "\u001b[K     |████████████████████████████████| 2.7 MB 17.6 MB/s \n",
            "\u001b[?25hRequirement already satisfied: osqp>=0.4.1 in /usr/local/lib/python3.7/dist-packages (from cvxpy<2.0.0,>=1.1.10->PyPortfolioOpt) (0.6.2.post0)\n",
            "Requirement already satisfied: ecos>=2 in /usr/local/lib/python3.7/dist-packages (from cvxpy<2.0.0,>=1.1.10->PyPortfolioOpt) (2.0.7.post1)\n",
            "Requirement already satisfied: scs>=1.1.6 in /usr/local/lib/python3.7/dist-packages (from cvxpy<2.0.0,>=1.1.10->PyPortfolioOpt) (2.1.4)\n",
            "Requirement already satisfied: qdldl in /usr/local/lib/python3.7/dist-packages (from osqp>=0.4.1->cvxpy<2.0.0,>=1.1.10->PyPortfolioOpt) (0.1.5.post0)\n",
            "Requirement already satisfied: pytz>=2017.2 in /usr/local/lib/python3.7/dist-packages (from pandas>=0.19->PyPortfolioOpt) (2018.9)\n",
            "Requirement already satisfied: python-dateutil>=2.7.3 in /usr/local/lib/python3.7/dist-packages (from pandas>=0.19->PyPortfolioOpt) (2.8.2)\n",
            "Requirement already satisfied: six>=1.5 in /usr/local/lib/python3.7/dist-packages (from python-dateutil>=2.7.3->pandas>=0.19->PyPortfolioOpt) (1.15.0)\n",
            "Installing collected packages: cvxpy, PyPortfolioOpt\n",
            "  Attempting uninstall: cvxpy\n",
            "    Found existing installation: cvxpy 1.0.31\n",
            "    Uninstalling cvxpy-1.0.31:\n",
            "      Successfully uninstalled cvxpy-1.0.31\n",
            "Successfully installed PyPortfolioOpt-1.5.1 cvxpy-1.1.18\n"
          ]
        }
      ]
    },
    {
      "cell_type": "code",
      "source": [
        "pip install yfinance"
      ],
      "metadata": {
        "id": "dJsTiCWW0nRY",
        "colab": {
          "base_uri": "https://localhost:8080/"
        },
        "outputId": "1797cd9d-cdf6-4977-845a-73d57da2a7de"
      },
      "id": "dJsTiCWW0nRY",
      "execution_count": 2,
      "outputs": [
        {
          "output_type": "stream",
          "name": "stdout",
          "text": [
            "Collecting yfinance\n",
            "  Downloading yfinance-0.1.67-py2.py3-none-any.whl (25 kB)\n",
            "Requirement already satisfied: multitasking>=0.0.7 in /usr/local/lib/python3.7/dist-packages (from yfinance) (0.0.10)\n",
            "Collecting lxml>=4.5.1\n",
            "  Downloading lxml-4.7.1-cp37-cp37m-manylinux_2_17_x86_64.manylinux2014_x86_64.manylinux_2_24_x86_64.whl (6.4 MB)\n",
            "\u001b[K     |████████████████████████████████| 6.4 MB 7.1 MB/s \n",
            "\u001b[?25hRequirement already satisfied: pandas>=0.24 in /usr/local/lib/python3.7/dist-packages (from yfinance) (1.1.5)\n",
            "Requirement already satisfied: numpy>=1.15 in /usr/local/lib/python3.7/dist-packages (from yfinance) (1.19.5)\n",
            "Requirement already satisfied: requests>=2.20 in /usr/local/lib/python3.7/dist-packages (from yfinance) (2.23.0)\n",
            "Requirement already satisfied: pytz>=2017.2 in /usr/local/lib/python3.7/dist-packages (from pandas>=0.24->yfinance) (2018.9)\n",
            "Requirement already satisfied: python-dateutil>=2.7.3 in /usr/local/lib/python3.7/dist-packages (from pandas>=0.24->yfinance) (2.8.2)\n",
            "Requirement already satisfied: six>=1.5 in /usr/local/lib/python3.7/dist-packages (from python-dateutil>=2.7.3->pandas>=0.24->yfinance) (1.15.0)\n",
            "Requirement already satisfied: idna<3,>=2.5 in /usr/local/lib/python3.7/dist-packages (from requests>=2.20->yfinance) (2.10)\n",
            "Requirement already satisfied: certifi>=2017.4.17 in /usr/local/lib/python3.7/dist-packages (from requests>=2.20->yfinance) (2021.10.8)\n",
            "Requirement already satisfied: chardet<4,>=3.0.2 in /usr/local/lib/python3.7/dist-packages (from requests>=2.20->yfinance) (3.0.4)\n",
            "Requirement already satisfied: urllib3!=1.25.0,!=1.25.1,<1.26,>=1.21.1 in /usr/local/lib/python3.7/dist-packages (from requests>=2.20->yfinance) (1.24.3)\n",
            "Installing collected packages: lxml, yfinance\n",
            "  Attempting uninstall: lxml\n",
            "    Found existing installation: lxml 4.2.6\n",
            "    Uninstalling lxml-4.2.6:\n",
            "      Successfully uninstalled lxml-4.2.6\n",
            "Successfully installed lxml-4.7.1 yfinance-0.1.67\n"
          ]
        }
      ]
    },
    {
      "cell_type": "code",
      "source": [
        "pip install pandas"
      ],
      "metadata": {
        "id": "AfUYr8mnDjqT",
        "colab": {
          "base_uri": "https://localhost:8080/"
        },
        "outputId": "4b5d1788-b8b3-40a3-efe1-eadb7296f199"
      },
      "id": "AfUYr8mnDjqT",
      "execution_count": 3,
      "outputs": [
        {
          "output_type": "stream",
          "name": "stdout",
          "text": [
            "Requirement already satisfied: pandas in /usr/local/lib/python3.7/dist-packages (1.1.5)\n",
            "Requirement already satisfied: pytz>=2017.2 in /usr/local/lib/python3.7/dist-packages (from pandas) (2018.9)\n",
            "Requirement already satisfied: numpy>=1.15.4 in /usr/local/lib/python3.7/dist-packages (from pandas) (1.19.5)\n",
            "Requirement already satisfied: python-dateutil>=2.7.3 in /usr/local/lib/python3.7/dist-packages (from pandas) (2.8.2)\n",
            "Requirement already satisfied: six>=1.5 in /usr/local/lib/python3.7/dist-packages (from python-dateutil>=2.7.3->pandas) (1.15.0)\n"
          ]
        }
      ]
    },
    {
      "cell_type": "code",
      "source": [
        "pip install pandas-datareader"
      ],
      "metadata": {
        "id": "lBlQ5IhXDlTi",
        "colab": {
          "base_uri": "https://localhost:8080/"
        },
        "outputId": "1882c209-3409-440f-cd82-30cdbb86bc71"
      },
      "id": "lBlQ5IhXDlTi",
      "execution_count": 4,
      "outputs": [
        {
          "output_type": "stream",
          "name": "stdout",
          "text": [
            "Requirement already satisfied: pandas-datareader in /usr/local/lib/python3.7/dist-packages (0.9.0)\n",
            "Requirement already satisfied: lxml in /usr/local/lib/python3.7/dist-packages (from pandas-datareader) (4.7.1)\n",
            "Requirement already satisfied: requests>=2.19.0 in /usr/local/lib/python3.7/dist-packages (from pandas-datareader) (2.23.0)\n",
            "Requirement already satisfied: pandas>=0.23 in /usr/local/lib/python3.7/dist-packages (from pandas-datareader) (1.1.5)\n",
            "Requirement already satisfied: python-dateutil>=2.7.3 in /usr/local/lib/python3.7/dist-packages (from pandas>=0.23->pandas-datareader) (2.8.2)\n",
            "Requirement already satisfied: numpy>=1.15.4 in /usr/local/lib/python3.7/dist-packages (from pandas>=0.23->pandas-datareader) (1.19.5)\n",
            "Requirement already satisfied: pytz>=2017.2 in /usr/local/lib/python3.7/dist-packages (from pandas>=0.23->pandas-datareader) (2018.9)\n",
            "Requirement already satisfied: six>=1.5 in /usr/local/lib/python3.7/dist-packages (from python-dateutil>=2.7.3->pandas>=0.23->pandas-datareader) (1.15.0)\n",
            "Requirement already satisfied: idna<3,>=2.5 in /usr/local/lib/python3.7/dist-packages (from requests>=2.19.0->pandas-datareader) (2.10)\n",
            "Requirement already satisfied: certifi>=2017.4.17 in /usr/local/lib/python3.7/dist-packages (from requests>=2.19.0->pandas-datareader) (2021.10.8)\n",
            "Requirement already satisfied: chardet<4,>=3.0.2 in /usr/local/lib/python3.7/dist-packages (from requests>=2.19.0->pandas-datareader) (3.0.4)\n",
            "Requirement already satisfied: urllib3!=1.25.0,!=1.25.1,<1.26,>=1.21.1 in /usr/local/lib/python3.7/dist-packages (from requests>=2.19.0->pandas-datareader) (1.24.3)\n"
          ]
        }
      ]
    },
    {
      "cell_type": "code",
      "metadata": {
        "id": "6EB96zkZAm1V",
        "colab": {
          "base_uri": "https://localhost:8080/"
        },
        "outputId": "1ff9cd08-9a0a-4df6-fac0-193705fd1dea"
      },
      "source": [
        "!pip install --upgrade pandas-datareader"
      ],
      "id": "6EB96zkZAm1V",
      "execution_count": 5,
      "outputs": [
        {
          "output_type": "stream",
          "name": "stdout",
          "text": [
            "Requirement already satisfied: pandas-datareader in /usr/local/lib/python3.7/dist-packages (0.9.0)\n",
            "Collecting pandas-datareader\n",
            "  Downloading pandas_datareader-0.10.0-py3-none-any.whl (109 kB)\n",
            "\u001b[K     |████████████████████████████████| 109 kB 5.1 MB/s \n",
            "\u001b[?25hRequirement already satisfied: lxml in /usr/local/lib/python3.7/dist-packages (from pandas-datareader) (4.7.1)\n",
            "Requirement already satisfied: pandas>=0.23 in /usr/local/lib/python3.7/dist-packages (from pandas-datareader) (1.1.5)\n",
            "Requirement already satisfied: requests>=2.19.0 in /usr/local/lib/python3.7/dist-packages (from pandas-datareader) (2.23.0)\n",
            "Requirement already satisfied: python-dateutil>=2.7.3 in /usr/local/lib/python3.7/dist-packages (from pandas>=0.23->pandas-datareader) (2.8.2)\n",
            "Requirement already satisfied: numpy>=1.15.4 in /usr/local/lib/python3.7/dist-packages (from pandas>=0.23->pandas-datareader) (1.19.5)\n",
            "Requirement already satisfied: pytz>=2017.2 in /usr/local/lib/python3.7/dist-packages (from pandas>=0.23->pandas-datareader) (2018.9)\n",
            "Requirement already satisfied: six>=1.5 in /usr/local/lib/python3.7/dist-packages (from python-dateutil>=2.7.3->pandas>=0.23->pandas-datareader) (1.15.0)\n",
            "Requirement already satisfied: chardet<4,>=3.0.2 in /usr/local/lib/python3.7/dist-packages (from requests>=2.19.0->pandas-datareader) (3.0.4)\n",
            "Requirement already satisfied: idna<3,>=2.5 in /usr/local/lib/python3.7/dist-packages (from requests>=2.19.0->pandas-datareader) (2.10)\n",
            "Requirement already satisfied: urllib3!=1.25.0,!=1.25.1,<1.26,>=1.21.1 in /usr/local/lib/python3.7/dist-packages (from requests>=2.19.0->pandas-datareader) (1.24.3)\n",
            "Requirement already satisfied: certifi>=2017.4.17 in /usr/local/lib/python3.7/dist-packages (from requests>=2.19.0->pandas-datareader) (2021.10.8)\n",
            "Installing collected packages: pandas-datareader\n",
            "  Attempting uninstall: pandas-datareader\n",
            "    Found existing installation: pandas-datareader 0.9.0\n",
            "    Uninstalling pandas-datareader-0.9.0:\n",
            "      Successfully uninstalled pandas-datareader-0.9.0\n",
            "Successfully installed pandas-datareader-0.10.0\n"
          ]
        }
      ]
    },
    {
      "cell_type": "code",
      "metadata": {
        "id": "86a3d279"
      },
      "source": [
        "import pandas as pd\n",
        "import numpy as np\n",
        "import pandas_datareader.data as web\n",
        "import yfinance as yf\n",
        "import datetime as datetime\n",
        "from pypfopt import expected_returns, risk_models, objective_functions\n",
        "from pypfopt.efficient_frontier import EfficientFrontier\n",
        "from pypfopt.discrete_allocation import DiscreteAllocation, get_latest_prices"
      ],
      "id": "86a3d279",
      "execution_count": 6,
      "outputs": []
    },
    {
      "cell_type": "markdown",
      "metadata": {
        "id": "d9ac117f"
      },
      "source": [
        "# Step 1. Ask for the available fund, number of securities to be invested and their names"
      ],
      "id": "d9ac117f"
    },
    {
      "cell_type": "code",
      "metadata": {
        "id": "0138aeeb",
        "colab": {
          "base_uri": "https://localhost:8080/"
        },
        "outputId": "4e9d5677-c588-41a0-d18b-512e5d3e3d0e"
      },
      "source": [
        "def get_total_portfolio_value():\n",
        "  \"\"\"\n",
        "  Asks the user for the total number of money (FLOAT) (USD) that \n",
        "  they want to invest in the portfolio. Handles any \n",
        "  misinput from the users. Returns a FLOAT\n",
        "  \"\"\"\n",
        "\n",
        "  while True: \n",
        "    try:\n",
        "      total_portfolio_value = float(input('How much (in USD) will you invest'\\\n",
        "                                          ' in this portfolio? '))\n",
        "    except ValueError:\n",
        "      print('Please enter a number and not words')\n",
        "      continue\n",
        "    if total_portfolio_value < 0:\n",
        "      print('You cannot invest with negative fund...')\n",
        "    else: \n",
        "      break\n",
        "\n",
        "  return total_portfolio_value\n",
        "\n",
        "def get_number_of_securities():\n",
        "  \"\"\"\n",
        "  Asks the user for the total number (INT) of companies that they \n",
        "  want to include in the portfolio. It will handle any misinput from the users.\n",
        "  Returns an INT\n",
        "  \"\"\"\n",
        "\n",
        "  while True:\n",
        "    try: \n",
        "      number_of_securities = int(input('How many different companies will you'\\\n",
        "                                       ' invest in this portfolio? '))\n",
        "    except ValueError:\n",
        "      print('Please enter a number and not words')\n",
        "      continue\n",
        "    if number_of_securities < 0:\n",
        "      print('You cannot have negative number of securities...')\n",
        "    else: \n",
        "      break\n",
        "  return number_of_securities\n",
        "\n",
        "def get_securities(number_of_securities):\n",
        "  \"\"\"\n",
        "  Accepts a (LIST) number of securities, then ask the user for the ticker \n",
        "  symbols of those securities. It will handle any misinput from the users.\n",
        "  Returns a LIST of securities\n",
        "  \"\"\"\n",
        "  securities = []\n",
        "\n",
        "  for number in range(number_of_securities):\n",
        "    while True:\n",
        "      try:\n",
        "          security = input(f'Please type in security {number+1}: ').upper()\n",
        "          ticker = yf.Ticker(security)\n",
        "          ticker_check = ticker.info['longBusinessSummary']\n",
        "          break\n",
        "      except KeyError:\n",
        "          print(\"Please enter a valid ticker symbol\")\n",
        "    securities.append(security)\n",
        "\n",
        "  return securities\n",
        "\n",
        "\n",
        "total_portfolio_value = get_total_portfolio_value()\n",
        "number_of_securities = get_number_of_securities()\n",
        "securities = get_securities(number_of_securities)\n",
        "print(securities)"
      ],
      "id": "0138aeeb",
      "execution_count": 7,
      "outputs": [
        {
          "output_type": "stream",
          "name": "stdout",
          "text": [
            "How much (in USD) will you invest in this portfolio? wegwqeg\n",
            "Please enter a number and not words\n",
            "How much (in USD) will you invest in this portfolio? 50000\n",
            "How many different companies will you invest in this portfolio? afwas\n",
            "Please enter a number and not words\n",
            "How many different companies will you invest in this portfolio? -1\n",
            "You cannot have negative number of securities...\n",
            "How many different companies will you invest in this portfolio? 6\n",
            "Please type in security 1: fb\n",
            "Please type in security 2: google\n",
            "Please enter a valid ticker symbol\n",
            "Please type in security 2: aal\n",
            "Please type in security 3: mgm\n",
            "Please type in security 4: zm\n",
            "Please type in security 5: lyft\n",
            "Please type in security 6: wfc\n",
            "['FB', 'AAL', 'MGM', 'ZM', 'LYFT', 'WFC']\n"
          ]
        }
      ]
    },
    {
      "cell_type": "markdown",
      "metadata": {
        "id": "f20059c1"
      },
      "source": [
        "# Step 2. Get the start and end interval for historical price data"
      ],
      "id": "f20059c1"
    },
    {
      "cell_type": "markdown",
      "source": [
        "## 2.1 Get the start of the period"
      ],
      "metadata": {
        "id": "O7HqaGAGFbw1"
      },
      "id": "O7HqaGAGFbw1"
    },
    {
      "cell_type": "code",
      "metadata": {
        "id": "64efbec9",
        "colab": {
          "base_uri": "https://localhost:8080/"
        },
        "outputId": "08adfb45-cade-4083-fe54-a61c8c4fcaf9"
      },
      "source": [
        "print('\\n--- Creating starting period ---')"
      ],
      "id": "64efbec9",
      "execution_count": 8,
      "outputs": [
        {
          "output_type": "stream",
          "name": "stdout",
          "text": [
            "\n",
            "--- Creating starting period ---\n"
          ]
        }
      ]
    },
    {
      "cell_type": "code",
      "metadata": {
        "id": "7a6e4057",
        "colab": {
          "base_uri": "https://localhost:8080/"
        },
        "outputId": "5c8a956d-cf37-4e81-fa82-90d4e1bf1ce6"
      },
      "source": [
        "def get_start_period():\n",
        "  \"\"\"\n",
        "  Asks the users the year, month, and date (INT) and convert it into \n",
        "  datetime format. Handles any misinput from the users.\n",
        "  Returns a datetime object\n",
        "  \"\"\"\n",
        "\n",
        "  while True: \n",
        "    try:\n",
        "      start_year = int(input('Please enter the start year: '))\n",
        "    except ValueError: \n",
        "      print('Please do not enter words')\n",
        "      continue\n",
        "    if start_year < 0:\n",
        "      print('You cannot have a negative year...')\n",
        "      continue\n",
        "    elif len(str(start_year)) != 4:\n",
        "      print(\"Please enter the year in the correct format. For example '2001'\")\n",
        "      continue\n",
        "    else: \n",
        "      break \n",
        "\n",
        "  while True: \n",
        "    try:\n",
        "      start_month = int(input('Please enter the start month: '))\n",
        "    except ValueError: \n",
        "      print('Please do not enter words')\n",
        "      continue\n",
        "    if start_month < 0:\n",
        "      print('You cannot have a negative year...')\n",
        "      continue\n",
        "    elif len(str(start_month)) > 2:\n",
        "      print(\"Please enter the month in the correct format. For example '2' or 12\")\n",
        "      continue\n",
        "    else: \n",
        "      break \n",
        "\n",
        "  while True: \n",
        "    try:\n",
        "      start_date = int(input('Please enter the start date: '))\n",
        "    except ValueError: \n",
        "      print('Please do not enter words')\n",
        "      continue\n",
        "    if start_date < 0:\n",
        "      print('You cannot have a negative date...')\n",
        "      continue\n",
        "    elif len(str(start_date)) > 2:\n",
        "      print(\"Please enter the date in the correct format. For example '2' or 12\")\n",
        "      continue\n",
        "    else: \n",
        "      break \n",
        "\n",
        "  start_date = datetime.date(start_year, start_month, start_date)\n",
        "\n",
        "  return start_date\n",
        "\n",
        "\n",
        "start_date = get_start_period()"
      ],
      "id": "7a6e4057",
      "execution_count": 9,
      "outputs": [
        {
          "name": "stdout",
          "output_type": "stream",
          "text": [
            "Please enter the start year: 2016\n",
            "Please enter the start month: 1\n",
            "Please enter the start date: 1\n"
          ]
        }
      ]
    },
    {
      "cell_type": "markdown",
      "source": [
        "## 2.2 Get the end of the period"
      ],
      "metadata": {
        "id": "oi1TVcpLFhzb"
      },
      "id": "oi1TVcpLFhzb"
    },
    {
      "cell_type": "code",
      "metadata": {
        "id": "44382a80",
        "colab": {
          "base_uri": "https://localhost:8080/"
        },
        "outputId": "d469c72d-fe8d-4ed4-d0e5-8159cba1b3d9"
      },
      "source": [
        "print('\\n--- Creating ending period ---')"
      ],
      "id": "44382a80",
      "execution_count": 10,
      "outputs": [
        {
          "output_type": "stream",
          "name": "stdout",
          "text": [
            "\n",
            "--- Creating ending period ---\n"
          ]
        }
      ]
    },
    {
      "cell_type": "code",
      "metadata": {
        "id": "06cb2ffb",
        "colab": {
          "base_uri": "https://localhost:8080/"
        },
        "outputId": "2ebff76a-7c39-4453-e075-df8a29502189"
      },
      "source": [
        "def get_end_period():\n",
        "  \"\"\"\n",
        "  Asks the users the year, month, and date (INT) and convert it into \n",
        "  datetime format. It will handle any misinput from the users.\n",
        "  Returns a datetime object.\n",
        "  \"\"\"\n",
        "\n",
        "  while True: \n",
        "    try:\n",
        "      end_year = int(input('Please enter the end year: '))\n",
        "    except ValueError: \n",
        "      print('Please do not enter words')\n",
        "      continue\n",
        "    if end_year < 0:\n",
        "      print('You cannot have a negative year...')\n",
        "      continue\n",
        "    elif len(str(end_year)) != 4:\n",
        "      print(\"Please enter the year in the correct format. For example '2001'\")\n",
        "      continue\n",
        "    else: \n",
        "      break \n",
        "\n",
        "  while True: \n",
        "    try:\n",
        "      end_month = int(input('Please enter the end month: '))\n",
        "    except ValueError: \n",
        "      print('Please do not enter words')\n",
        "      continue\n",
        "    if end_month < 0:\n",
        "      print('You cannot have a negative year...')\n",
        "      continue\n",
        "    elif len(str(end_month)) > 2:\n",
        "      print(\"Please enter the month in the correct format. For example '2' or 12\")\n",
        "      continue\n",
        "    else: \n",
        "      break \n",
        "\n",
        "  while True: \n",
        "    try:\n",
        "      end_date = int(input('Please enter the end date: '))\n",
        "    except ValueError: \n",
        "      print('Please do not enter words')\n",
        "      continue\n",
        "    if end_date < 0:\n",
        "      print('You cannot have a negative date...')\n",
        "      continue\n",
        "    elif len(str(end_date)) > 2:\n",
        "      print(\"Please enter the date in the correct format. For example '2' or 12\")\n",
        "      continue\n",
        "    else: \n",
        "      break \n",
        "\n",
        "  end_date = datetime.date(end_year, end_month, end_date)\n",
        "\n",
        "  return end_date\n",
        "\n",
        "\n",
        "end_date = get_end_period()"
      ],
      "id": "06cb2ffb",
      "execution_count": 11,
      "outputs": [
        {
          "name": "stdout",
          "output_type": "stream",
          "text": [
            "Please enter the end year: 2021\n",
            "Please enter the end month: 1\n",
            "Please enter the end date: 1\n"
          ]
        }
      ]
    },
    {
      "cell_type": "markdown",
      "metadata": {
        "id": "8c8804b6"
      },
      "source": [
        "## 2.3 Get the price data within the start and end interval"
      ],
      "id": "8c8804b6"
    },
    {
      "cell_type": "code",
      "metadata": {
        "id": "ceab2b2a",
        "colab": {
          "base_uri": "https://localhost:8080/"
        },
        "outputId": "18ef7dfd-474e-48bd-9a86-2afbd9a86e49"
      },
      "source": [
        "def get_price_data(start_date, end_date, securities):\n",
        "  \"\"\"\n",
        "  Accepts start_date, end_date and LIST of securities. \n",
        "  Based on that, Returns a pandas dataframe of the historical price data for \n",
        "  all the securities in the list from the start to end date. \n",
        "  \"\"\"\n",
        "\n",
        "  daily_adjclose_df = pd.DataFrame()\n",
        "\n",
        "  for security in securities:\n",
        "      daily_adjclose_df[security] = web.DataReader(security, data_source='yahoo', start = start_date, end = end_date)['Adj Close']\n",
        "\n",
        "  return daily_adjclose_df\n",
        "\n",
        "\n",
        "daily_adjclose_df = get_price_data(start_date, end_date, securities)\n",
        "print(daily_adjclose_df)"
      ],
      "id": "ceab2b2a",
      "execution_count": 12,
      "outputs": [
        {
          "output_type": "stream",
          "name": "stdout",
          "text": [
            "                    FB        AAL        MGM          ZM       LYFT        WFC\n",
            "Date                                                                          \n",
            "2016-01-04  102.220001  39.095463  21.022427         NaN        NaN  44.162910\n",
            "2016-01-05  102.730003  38.722755  21.494841         NaN        NaN  44.146214\n",
            "2016-01-06  102.970001  39.401260  21.154703         NaN        NaN  43.303188\n",
            "2016-01-07   97.919998  38.655865  19.482359         NaN        NaN  42.067871\n",
            "2016-01-08   97.330002  38.579411  19.359526         NaN        NaN  41.366741\n",
            "...                ...        ...        ...         ...        ...        ...\n",
            "2020-12-24  267.399994  15.660000  30.731152  375.170013  48.860001  29.438826\n",
            "2020-12-28  277.000000  16.059999  31.280994  351.390015  49.770000  29.527617\n",
            "2020-12-29  276.779999  15.860000  30.761143  353.750000  49.250000  29.379633\n",
            "2020-12-30  271.869995  16.150000  31.181023  353.399994  50.340000  29.350035\n",
            "2020-12-31  273.160004  15.770000  31.500931  337.320007  49.130001  29.774254\n",
            "\n",
            "[1259 rows x 6 columns]\n"
          ]
        }
      ]
    },
    {
      "cell_type": "markdown",
      "source": [
        "# Step 2. Calculate the expected returns of each ticker \n"
      ],
      "metadata": {
        "id": "9PoLwwWUIld1"
      },
      "id": "9PoLwwWUIld1"
    },
    {
      "cell_type": "markdown",
      "source": [
        "## 2.1 Provide the users with preliminary information on the available methods that we could use for calculating expected returns"
      ],
      "metadata": {
        "id": "47qCy6NN3sHT"
      },
      "id": "47qCy6NN3sHT"
    },
    {
      "cell_type": "code",
      "metadata": {
        "id": "av4hAwXfSSHJ",
        "colab": {
          "base_uri": "https://localhost:8080/"
        },
        "outputId": "1fb0133a-c30d-4edc-8046-97c87a67bb25"
      },
      "source": [
        "def expected_returns_intro_text():\n",
        "  \"\"\"\n",
        "  Provides introduction to the different methods available for estimating\n",
        "  expected returns of each stock. \n",
        "  \"\"\"\n",
        "\n",
        "  print('\\n--- Estimating expected returns ---\\n')\n",
        "  print('This calculator offers three ways to estimate the'\\\n",
        "        ' expected returns of each stock: ')\n",
        "  print('1. Using the mean of historical returns')\n",
        "  print('2. Using the exponentially weighted mean (EMA) of historical returns')\n",
        "  print('3. Using the CAPM method to estimate the expected returns')\n",
        "\n",
        "\n",
        "expected_returns_intro_text()\n",
        "\n",
        "def er_method_brief_explanation():\n",
        "  \"\"\"\n",
        "  Provides the option to read a brief explanation about each available method\n",
        "  for estimating the expected returns. \n",
        "  \"\"\"\n",
        "\n",
        "  while True:\n",
        "    er_info = input(\"\\nFor brief explanation of any of the method,\"\\\n",
        "                    \" type 'Y' for yes, or else, type 'N' for no: \")\n",
        "    if er_info.upper() not in ('Y', 'N'):\n",
        "      print(\"Please input either 'Y' or 'N'\")\n",
        "      continue\n",
        "    elif er_info.upper() == 'Y':\n",
        "      while True: \n",
        "        print('\\nWhich method would you want a brief explanation about? ')\n",
        "        while True: \n",
        "          method = input(\"Type '1' for the first method, type '2' for\"\\\n",
        "                         \" the second, and '3' for the third one: \")\n",
        "          if method not in ('1', '2', '3'):\n",
        "            print(\"Please input either '1', '2', or '3'\")\n",
        "            continue\n",
        "          elif method == '1':\n",
        "            print('\\nMETHOD 1. The mean historical return method uses the'\\\n",
        "                  ' daily adjusted closing price data within the time'\\\n",
        "                  ' interval specified by you, and calculate the'\\\n",
        "                  ' annualized average return of each stock.')\n",
        "            break\n",
        "          elif method == '2':\n",
        "            print('\\nMETHOD 2. The EMA historical return method uses the'\\\n",
        "                  ' daily adjusted closing price data within the time interval'\\\n",
        "                  ' specified by you, and calculate the'\\\n",
        "                  ' annualized average return of each stock.'\\\n",
        "                  ' HOWEVER, giving more weight to more recent data.')\n",
        "            break\n",
        "          elif method == '3':\n",
        "            print('\\nMETHOD 3. This method uses the CAPM formula to estimates'\\\n",
        "                  ' the expected return of each stock:')\n",
        "            print('Expected return = risk_free rate + beta of the company *'\\\n",
        "                    '(market risk premium - risk_free rate)')\n",
        "            break\n",
        "        while True:\n",
        "          continue_explain = input(\"\\nDo you want to know more about the\"\\\n",
        "                                   \" other methods? Input 'Y' for yes or\"\\\n",
        "                                   \" 'N' for no: \")\n",
        "          if continue_explain.upper() not in ('Y', 'N'):\n",
        "            print(\"Please input either 'Y' or 'N'\")\n",
        "            continue\n",
        "          else: \n",
        "            break\n",
        "        if continue_explain.upper() == 'N':\n",
        "          break\n",
        "        elif continue_explain.upper() == 'Y':\n",
        "          continue\n",
        "      break\n",
        "    elif er_info.upper() == 'N':\n",
        "      break\n",
        "\n",
        "\n",
        "er_method_brief_explanation()\n"
      ],
      "id": "av4hAwXfSSHJ",
      "execution_count": 28,
      "outputs": [
        {
          "name": "stdout",
          "output_type": "stream",
          "text": [
            "\n",
            "--- Estimating expected returns ---\n",
            "\n",
            "This calculator offers three ways to estimate the expected returns of each stock: \n",
            "1. Using the mean of historical returns\n",
            "2. Using the exponentially weighted mean (EMA) of historical returns\n",
            "3. Using the CAPM method to estimate the expected returns\n",
            "\n",
            "For brief explanation of any of the method, type 'Y' for yes, or else, type 'N' for no: y\n",
            "\n",
            "Which method would you want a brief explanation about? \n",
            "Type '1' for the first method, type '2' for the second, and '3' for the third one: 1\n",
            "\n",
            "METHOD 1. The mean historical return method uses the daily adjusted closing price data within the time interval specified by you, and calculate the annualized average return of each stock.\n",
            "\n",
            "Do you want to know more about the other methods? Input 'Y' for yes or 'N' for no: n\n"
          ]
        }
      ]
    },
    {
      "cell_type": "markdown",
      "source": [
        "## 2.2 Choose a method and calculate our expected returns"
      ],
      "metadata": {
        "id": "mck-ekcH31wC"
      },
      "id": "mck-ekcH31wC"
    },
    {
      "cell_type": "code",
      "source": [
        "def get_expected_returns(daily_adjclose_df):\n",
        "  \"\"\"\n",
        "  Accepts the pandas dataframe daily_adjclose_df, then asks the users for the \n",
        "  method to be used for estimating expected returns. Handlles any misinput\n",
        "  from the users. Returns a date type object of ticker symbols and their\n",
        "  expected returns\n",
        "  \"\"\"\n",
        "  mu = 0 \n",
        "\n",
        "  while True: \n",
        "    choice = input(\"\\nTo choose a method to estimate expected returns,\"\\\n",
        "                   \" input '1' for the first method, '2' for the second,\"\\\n",
        "                   \" and '3' for the third: \")\n",
        "    if choice not in ('1', '2', '3'):\n",
        "      print(\"Please input either '1', '2', or '3'\")\n",
        "      continue\n",
        "    elif choice == '1':\n",
        "      print('Estimating expected returns based on mean historical returns...')\n",
        "      mu = expected_returns.mean_historical_return(daily_adjclose_df)\n",
        "      print('DONE')\n",
        "      break\n",
        "    elif choice == '2':\n",
        "      print('Estimating expected returns based on EMA historical returns...\\n')\n",
        "      print('How recent do you want to give more weight to?')\n",
        "      print('The default value is 500 days. However, the higher the days, '\\\n",
        "            'the more similar this method is to the first method')\n",
        "      span = int(input(\"\\nPlease input an integer.\" \n",
        "            \" For example, '365' means giving more \"\\\n",
        "            \"weight to the last 365 trading days: \"))\n",
        "      mu = expected_returns.ema_historical_return(daily_adjclose_df)\n",
        "      print('DONE')\n",
        "      break\n",
        "    elif choice == '3':\n",
        "      print('\\nEstimating expected returns based on CAPM...')\n",
        "      mu = expected_returns.capm_return(daily_adjclose_df)\n",
        "      print('DONE')\n",
        "      break\n",
        "  return mu \n",
        "\n",
        "mu = get_expected_returns(daily_adjclose_df)"
      ],
      "metadata": {
        "id": "kGeSsUX51yKL",
        "colab": {
          "base_uri": "https://localhost:8080/"
        },
        "outputId": "6528313f-f524-4d5b-8f55-d102a6a1ec9a"
      },
      "id": "kGeSsUX51yKL",
      "execution_count": 14,
      "outputs": [
        {
          "output_type": "stream",
          "name": "stdout",
          "text": [
            "\n",
            "To choose a method to estimate expected returns, input '1' for the first method, '2' for the second, and '3' for the third: 3\n",
            "\n",
            "Estimating expected returns based on CAPM...\n",
            "DONE\n"
          ]
        }
      ]
    },
    {
      "cell_type": "markdown",
      "source": [
        "# Step 3. Calculate our risk model (covariance matrix)"
      ],
      "metadata": {
        "id": "Afrri7vBJkhc"
      },
      "id": "Afrri7vBJkhc"
    },
    {
      "cell_type": "markdown",
      "source": [
        "## 3.1 Provide the users with preliminary information on the available methods that we could use for calculating the covariance matrix"
      ],
      "metadata": {
        "id": "26VXp9aT5Is1"
      },
      "id": "26VXp9aT5Is1"
    },
    {
      "cell_type": "code",
      "metadata": {
        "id": "bIciAvSgSjkN",
        "colab": {
          "base_uri": "https://localhost:8080/"
        },
        "outputId": "29b51ef8-25ba-42a9-ce91-cd1547c8b929"
      },
      "source": [
        "def risk_model_intro_text():\n",
        "  \"\"\"\n",
        "  Provides introduction to the different methods available for calculating \n",
        "  the covariance matrix\n",
        "  \"\"\"\n",
        "\n",
        "  print('\\n--- Calculating risk model ---\\n')\n",
        "  print('This calculator offers three ways to estimate the' \\\n",
        "        ' expected returns of each stock: ')\n",
        "  print('1. Using the sample covariance matrix')\n",
        "  print('2. Using the exponentially weighted covariance matrix')\n",
        "  print('3. Using the shrunk covariance matrices, specifically the' \\\n",
        "        ' Ledoit Wolf constant variance shrinkage method')\n",
        "\n",
        "\n",
        "risk_model_intro_text()\n",
        "\n",
        "\n",
        "def rm_method_brief_explanation():\n",
        "  \"\"\"\n",
        "  Provides the option to read a brief explanation about each available method\n",
        "  for calculating the covariance matrix\n",
        "  \"\"\"\n",
        "\n",
        "  while True:\n",
        "    rm_info = input(\"\\nFor brief explanation of any of the method,\"\\\n",
        "                    \" type 'Y' for yes, or else, type 'N' for no: \")\n",
        "    if rm_info.upper() not in ('Y', 'N'):\n",
        "      print(\"Please input either 'Y' or 'N'\")\n",
        "      continue\n",
        "    elif rm_info.upper() == 'Y':\n",
        "      while True: \n",
        "        print('\\nWhich method would you want a brief explanation about? ')\n",
        "        while True: \n",
        "          method = input(\"Type '1' for the first method, type '2'\"\\\n",
        "                         \" for the second, and '3' for the third one: \")\n",
        "          if method not in ('1', '2', '3'):\n",
        "            print(\"Please input either '1', '2', or '3'\\n\")\n",
        "            continue\n",
        "          elif method == '1':\n",
        "            print('\\nMETHOD 1. This method creates a covariance matrix,'\\\n",
        "                  ' using the daily adjusted closing price data, by simply'\\\n",
        "                  ' calculating the sample covariances between each stock.'\\\n",
        "                  ' For calculating a risk model, this is the most'\\\n",
        "                  ' simple method and therefore is not recommeded.')\n",
        "            break\n",
        "          elif method == '2':\n",
        "            print('\\nMETHOD 2. This method creates a covariance matrix,'\\\n",
        "                  ' using the daily adjusted closing price data,' \\\n",
        "                  ' by calculating the sample covariances between each stock,'\\\n",
        "                  ' but also giving more weight to more recent data.')\n",
        "            break\n",
        "          elif method == '3':\n",
        "            print('\\nMETHOD 3. A more detailed and technical explanation'\\\n",
        "                  ' of this method can be found here: '\\\n",
        "                  'https://reasonabledeviations.com/notes/papers/ledoit_wolf_covariance/')\n",
        "            print('\\nIn short, this method is superior compared to both'\\\n",
        "                  ' other methods. It is the result of compromising between'\\\n",
        "                  ' an unstrcutred and structured covariance estimator to'\\\n",
        "                  ' create one that has an overall lower'\\\n",
        "                  ' estimation error and bias.')\n",
        "            break\n",
        "        while True:\n",
        "          continue_explain = input(\"\\nDo you want to know more about the other \"\\\n",
        "                                   \"methods? Input 'Y' for yes or 'N' for no: \")\n",
        "          if continue_explain.upper() not in ('Y', 'N'):\n",
        "            print(\"Please input either 'Y' or 'N'\")\n",
        "            continue\n",
        "          else:\n",
        "            break\n",
        "        if continue_explain.upper() == 'N':\n",
        "          break\n",
        "        elif continue_explain.upper() == 'Y':\n",
        "          continue\n",
        "      break\n",
        "    elif rm_info.upper() == 'N':\n",
        "      break\n",
        "\n",
        "rm_method_brief_explanation()"
      ],
      "id": "bIciAvSgSjkN",
      "execution_count": 17,
      "outputs": [
        {
          "name": "stdout",
          "output_type": "stream",
          "text": [
            "\n",
            "--- Calculating risk model ---\n",
            "\n",
            "This calculator offers three ways to estimate the expected returns of each stock: \n",
            "1. Using the sample covariance matrix\n",
            "2. Using the exponentially weighted covariance matrix\n",
            "3. Using the shrunk covariance matrices, specifically the Ledoit Wolf constant variance shrinkage method\n",
            "\n",
            "For brief explanation of any of the method, type 'Y' for yes, or else, type 'N' for no: n\n"
          ]
        }
      ]
    },
    {
      "cell_type": "markdown",
      "source": [
        "## 3.2 Choose a method and calculate our risk model (covariance matrix)"
      ],
      "metadata": {
        "id": "oqKoSDmU5Ohd"
      },
      "id": "oqKoSDmU5Ohd"
    },
    {
      "cell_type": "code",
      "source": [
        "def get_risk_model(daily_adjclose_df):\n",
        "  \"\"\"\n",
        "  Accepts the pandas dataframe daily_adjclose_df, then asks the users for the \n",
        "  method to be used for calculating covariance matrix. Handlles any misinput\n",
        "  from the users. Returns a data type of the covariance matrix of the securities\n",
        "  \"\"\"\n",
        "  \n",
        "  covariance_matrix = 0 \n",
        "\n",
        "  while True: \n",
        "    choice = input(\"\\nTo choose a method to calculate our risk model,\"\\\n",
        "                   \" input '1' for the first method, '2' for the second\"\\\n",
        "                   \" and '3' for the third: \")\n",
        "    if choice not in ('1', '2', '3'):\n",
        "      print(\"Please input either '1', '2', or '3'\")\n",
        "      continue\n",
        "    elif choice == '1':\n",
        "      print('\\nCalculating our risk model using the sample covariance matrix...')\n",
        "      covariance_matrix = risk_models.sample_cov(daily_adjclose_df)\n",
        "      print('DONE')\n",
        "      break\n",
        "    elif choice == '2':\n",
        "      print('\\nCalculating our risk model using the exponentially weighted'\\\n",
        "            'covariance matrix...')\n",
        "      print('\\nHow recent do you want to give more weight to?')\n",
        "      print('The default value is 180 days. However, the higher the days, '\\\n",
        "            'the more similar this method is to the first method')\n",
        "      print('The days input here should also be the same as the date input'\\\n",
        "            ' for EMA historical return, if you had chosen that method.')\n",
        "      span = int(input(\"\\nPlease input an integer.\" \n",
        "            \" For example, '365' means giving more \"\\\n",
        "            \"weight to the last 365 trading days: \"))\n",
        "      covariance_matrix = risk_models.exp_cov(daily_adjclose_df)\n",
        "      print('DONE')\n",
        "      break\n",
        "    elif choice == '3':\n",
        "      print('\\nCalculating our risk model using the'\\\n",
        "            ' Ledoit Wolf constant variance shrinkage method...')\n",
        "      covariance_matrix = risk_models.risk_matrix(daily_adjclose_df, \\\n",
        "                          method='ledoit_wolf_constant_variance')\n",
        "      print('DONE')\n",
        "      break\n",
        "\n",
        "  # Fix the covariance matrix if it is not positive semidefinite    \n",
        "  covariance_matrix_fix = risk_models.fix_nonpositive_semidefinite(covariance_matrix)\n",
        "\n",
        "  return covariance_matrix_fix \n",
        "\n",
        "\n",
        "covariance_matrix = get_risk_model(daily_adjclose_df)"
      ],
      "metadata": {
        "id": "iGn7Loal5C9-",
        "colab": {
          "base_uri": "https://localhost:8080/"
        },
        "outputId": "1932b3d2-9c9d-40e9-856b-a9f8606dca41"
      },
      "id": "iGn7Loal5C9-",
      "execution_count": 19,
      "outputs": [
        {
          "output_type": "stream",
          "name": "stdout",
          "text": [
            "\n",
            "To choose a method to calculate our risk model, input '1' for the first method, '2' for the second and '3' for the third: 3\n",
            "\n",
            "Calculating our risk model using the Ledoit Wolf constant variance shrinkage method...\n",
            "DONE\n"
          ]
        }
      ]
    },
    {
      "cell_type": "markdown",
      "source": [
        "# Step 4. Optimize our portfolio"
      ],
      "metadata": {
        "id": "r_GPmyZCJrnM"
      },
      "id": "r_GPmyZCJrnM"
    },
    {
      "cell_type": "markdown",
      "source": [
        "## 4.1 Ask whether if there is a weight requirement (min/max) for each stock\n"
      ],
      "metadata": {
        "id": "OZVnk57V8Jw_"
      },
      "id": "OZVnk57V8Jw_"
    },
    {
      "cell_type": "code",
      "metadata": {
        "id": "RtSyJH11hSO2",
        "colab": {
          "base_uri": "https://localhost:8080/"
        },
        "outputId": "c7c5f2fb-45c7-48c8-f561-a3fd3d7e5a9e"
      },
      "source": [
        "def get_weight_bounds(securities): \n",
        "  \"\"\"\n",
        "  Accepts the LIST of securities. Asks the user whether they want to specify \n",
        "  weight bounds for the securities. Returns a list of tuples, or None. \n",
        "  \"\"\"\n",
        "  \n",
        "  print(\"\\nBefore getting our asset allocation, do you have\"\\\n",
        "      \" any requirement about the allocation of each\"\\\n",
        "      \" stock? For example, you can require minimum\"\\\n",
        "      \" weight of all stock to be 20% and maximum to be\"\\\n",
        "      \" 80% of the portfolio, or you can specify a different \"\\\n",
        "      \" weight requirement for each company.\")\n",
        "  \n",
        "  min = 0 \n",
        "  max = 0\n",
        "  while True:\n",
        "    weight_requirement = input(\"Input 'Y' for yes, or 'N for no: \")\n",
        "    if weight_requirement.upper() not in ('Y', 'N'):\n",
        "      print(\"\\nPlease input either 'Y' or 'N'\")\n",
        "      continue  \n",
        "    elif weight_requirement.upper() == 'Y':\n",
        "      print('\\nDo you want to set the min/max weight the same for all stock'\\\n",
        "            ' or for each stock?')\n",
        "      while True:\n",
        "        all_or_each = input(\"Input either 'all' or 'each': \")\n",
        "        if all_or_each.upper() not in ('ALL', 'EACH'):\n",
        "          print(\"'Please only input either 'all' or 'each'\")\n",
        "          continue\n",
        "        elif all_or_each.upper() == 'ALL':\n",
        "          while True:\n",
        "            try:\n",
        "              min = float(input(\"Please input the minimum weight.\"\\\n",
        "                                \" For example, '0.2' for 20%: \"))\n",
        "              max = float(input(\"Please input the maximum weight.\"\\\n",
        "                                \" For example, '0.8' for 80%: \"))\n",
        "            except ValueError:\n",
        "              print(\"Please enter the value in the format\"\\\n",
        "                    \" shown in the examples\")\n",
        "              continue\n",
        "            if min < 0.0 or max > 1:\n",
        "              print(\"The minimum weight cannot be\"\\\n",
        "                    \" lower than '0' and the maximum weight\"\\\n",
        "                    \" cannot be larger than '1'\")\n",
        "              continue\n",
        "            else:\n",
        "              weight_bounds_all = (min, max)\n",
        "              break\n",
        "            break\n",
        "          break\n",
        "        elif all_or_each.upper() == 'EACH':\n",
        "          weight_bounds_each = []\n",
        "          for security in securities: \n",
        "            print(f'\\nFor {security}: ')\n",
        "            while True:\n",
        "              try: \n",
        "                min = float(input(\"Please input the minimum weight.\"\\\n",
        "                                  \" For example, '0.2' for 20%: \"))\n",
        "                max = float(input(\"Please input the maximum weight.\"\\\n",
        "                                  \" For example, '0.8' for 80%: \"))\n",
        "              except ValueError:\n",
        "                print(\"Please enter the value in the format\"\\\n",
        "                      \" shown in the examples\")\n",
        "                continue\n",
        "              if min < 0.0 or max > 1:\n",
        "                print(\"The minimum weight cannot be lower than '0'\"\\\n",
        "                      \" and the maximum weight cannot be larger than '1'\")\n",
        "                continue\n",
        "              else: \n",
        "                weight_bounds_each.append((min, max))\n",
        "                break \n",
        "          break\n",
        "      break\n",
        "    elif weight_requirement.upper() == 'N':\n",
        "      break\n",
        "\n",
        "  if weight_requirement.upper() == 'Y':\n",
        "    if all_or_each.upper() == 'ALL':\n",
        "      return weight_bounds_all\n",
        "    elif all_or_each.upper() == 'EACH':\n",
        "      return weight_bounds_each\n",
        "  elif weight_requirement.upper() == 'N':\n",
        "    return None\n",
        "\n",
        "weight_bounds = get_weight_bounds(securities)"
      ],
      "id": "RtSyJH11hSO2",
      "execution_count": 20,
      "outputs": [
        {
          "name": "stdout",
          "output_type": "stream",
          "text": [
            "\n",
            "Before getting our asset allocation, do you have any requirement about the allocation of each stock? For example, you can require minimum weight of all stock to be 20% and maximum to be 80% of the portfolio, or you can specify a different  weight requirement for each company.\n",
            "Input 'Y' for yes, or 'N for no: y\n",
            "\n",
            "Do you want to set the min/max weight the same for all stock or for each stock?\n",
            "Input either 'all' or 'each': all\n",
            "Please input the minimum weight. For example, '0.2' for 20%: 0.1\n",
            "Please input the maximum weight. For example, '0.8' for 80%: 0.9\n"
          ]
        }
      ]
    },
    {
      "cell_type": "markdown",
      "source": [
        "# 4.2 Generating our efficient frontier object (not relevant to the users)"
      ],
      "metadata": {
        "id": "U95SWVZPmRDy"
      },
      "id": "U95SWVZPmRDy"
    },
    {
      "cell_type": "code",
      "source": [
        "def get_efficient_frontier_object(mu, covariance_matrix, weight_bounds):\n",
        "  \"\"\"\n",
        "  Accepts data type objects mu, covariance_matrix, and list of tuples or None. \n",
        "  Returns EfficientFrontier object created by the PyPortfolioOpt library.\n",
        "  \"\"\"\n",
        "\n",
        "  # Set default weight bound if user chooses not to set it themselves\n",
        "  if weight_bounds == None:\n",
        "    weight_bounds = (0,1)\n",
        "\n",
        "  efficient_frontier_object = EfficientFrontier(mu, covariance_matrix, weight_bounds)\n",
        "  efficient_frontier_object.add_objective(objective_functions.L2_reg, gamma=0.1)\n",
        "\n",
        "  return efficient_frontier_object\n",
        "\n",
        "\n",
        "efficient_frontier_object = get_efficient_frontier_object(mu, covariance_matrix, weight_bounds)"
      ],
      "metadata": {
        "id": "Ych-QfN_mZPB"
      },
      "id": "Ych-QfN_mZPB",
      "execution_count": 21,
      "outputs": []
    },
    {
      "cell_type": "markdown",
      "source": [
        "## 4.3 Provide preliminary information on the available methods that we could use to optimize our portfolio "
      ],
      "metadata": {
        "id": "09NnjED5ZSja"
      },
      "id": "09NnjED5ZSja"
    },
    {
      "cell_type": "code",
      "source": [
        "def optimizing_method_text():\n",
        "  \"\"\"\n",
        "  Provides introduction to the different methods available for mean-variance \n",
        "  optimization of the portfolio.\n",
        "  \"\"\"\n",
        "  print('--- Optimizing your portfolio ---\\n')\n",
        "  print('This calculator offers four different goals to optimize' \\\n",
        "        ' your portfolio: ')\n",
        "  print('1. Optimizes for maximum Sharpe ratio')\n",
        "  print('2. Optimizes for minimum portfolio volatility')\n",
        "  print('3. Optimizes for efficient risk')\n",
        "  print('4. Optimizes for efficient return')\n",
        "\n",
        "\n",
        "optimizing_method_text()\n",
        "\n",
        "def optimizing_method_brief_explanation():\n",
        "  \"\"\"\n",
        "  Provides the option to read a brief explanation about each available method\n",
        "  for optimizing the portfolio\n",
        "  \"\"\"\n",
        "\n",
        "  while True:\n",
        "    opt_info = input(\"\\nFor brief explanation of any of the method, type 'Y' \"\n",
        "                    \"for yes, or else, type 'N' for no: \")\n",
        "    if opt_info.upper() not in ('Y', 'N'):\n",
        "      print(\"Please input either 'Y' or 'N'\")\n",
        "      continue\n",
        "    elif opt_info.upper() == 'Y':\n",
        "      while True: \n",
        "        print('\\nWhich method would you want a brief explanation about? ')\n",
        "        while True: \n",
        "          method = input(\"Type '1' for the first method, '2' for the second,\"\\\n",
        "                         \" '3' for the third, and '4' for the fourth one: \")\n",
        "          if method not in ('1', '2', '3', '4'):\n",
        "            print(\"Please input either '1', '2', '3', or '4'\")\n",
        "            continue\n",
        "          elif method == '1':\n",
        "            print('\\nMETHOD 1. Sharpe ratio is the excess in return by holding'\\\n",
        "                  ' risky asset for the extra volatility\\n')\n",
        "            print('Sharpe ratio = (portfolio return - risk_free rate) / '\\\n",
        "                  'portfolio volatility\\n')\n",
        "            print('This method generates all possible combination of '\\\n",
        "                  ' asset weight allocation (not including shorts), calculate'\\\n",
        "                  'the portfolio return and volatitlity, and chooses the '\\\n",
        "                  'combination that results in the highest Sharpre ratio')\n",
        "            break\n",
        "          elif method == '2':\n",
        "            print('\\nMETHOD 2. This method aims to create a portfolio with'\\\n",
        "                  ' the minimum volatity')\n",
        "            break\n",
        "          elif method == '3':\n",
        "            print('\\nMETHOD 3. This method will try to maximize the portfolio'\\\n",
        "                  ' return with a given target volatility')\n",
        "            break\n",
        "          elif method == '4':\n",
        "            print('\\nMETHOD 4. This method will try to minimize the portfolio'\\\n",
        "                  ' volatility with a given target return')\n",
        "            break  \n",
        "        while True: \n",
        "          continue_explain = input(\"\\nDo you want to know more about the other \"\n",
        "                                 \"method? Input 'Y' for yes or 'N' for no: \")\n",
        "          if continue_explain.upper() not in ('Y', 'N'):\n",
        "            print(\"Please input either 'Y' or 'N'\")\n",
        "            continue\n",
        "          else: \n",
        "            break\n",
        "        if continue_explain.upper() == 'N':\n",
        "          break\n",
        "        elif continue_explain.upper() == 'Y':\n",
        "          continue\n",
        "      break\n",
        "    elif opt_info.upper() == 'N':\n",
        "      break\n",
        "\n",
        "\n",
        "optimizing_method_brief_explanation()"
      ],
      "metadata": {
        "id": "xRFY5xc1ZR5L",
        "colab": {
          "base_uri": "https://localhost:8080/"
        },
        "outputId": "a11e2930-8cf8-462c-bb7d-8ce37de0f9a2"
      },
      "id": "xRFY5xc1ZR5L",
      "execution_count": 23,
      "outputs": [
        {
          "name": "stdout",
          "output_type": "stream",
          "text": [
            "--- Optimizing your portfolio ---\n",
            "\n",
            "This calculator offers four different goals to optimize your portfolio: \n",
            "1. Optimizes for maximum Sharpe ratio\n",
            "2. Optimizes for minimum portfolio volatility\n",
            "3. Optimizes for efficient risk\n",
            "4. Optimizes for efficient return\n",
            "\n",
            "For brief explanation of any of the method, type 'Y' for yes, or else, type 'N' for no: y\n",
            "\n",
            "Which method would you want a brief explanation about? \n",
            "Type '1' for the first method, '2' for the second, '3' for the third, and '4' for the fourth one: 1\n",
            "\n",
            "METHOD 1. Sharpe ratio is the excess in return by holding risky asset for the extra volatility\n",
            "\n",
            "Sharpe ratio = (portfolio return - risk_free rate) / portfolio volatility\n",
            "\n",
            "This method generates all possible combination of  asset weight allocation (not including shorts), calculatethe portfolio return and volatitlity, and chooses the combination that results in the highest Sharpre ratio\n",
            "\n",
            "Do you want to know more about the other method? Input 'Y' for yes or 'N' for no: y\n",
            "\n",
            "Which method would you want a brief explanation about? \n",
            "Type '1' for the first method, '2' for the second, '3' for the third, and '4' for the fourth one: 4\n",
            "\n",
            "METHOD 4. This method will try to minimize the portfolio volatility with a given target return\n",
            "\n",
            "Do you want to know more about the other method? Input 'Y' for yes or 'N' for no: y\n",
            "\n",
            "Which method would you want a brief explanation about? \n",
            "Type '1' for the first method, '2' for the second, '3' for the third, and '4' for the fourth one: 2\n",
            "\n",
            "METHOD 2. This method aims to create a portfolio with the minimum volatity\n",
            "\n",
            "Do you want to know more about the other method? Input 'Y' for yes or 'N' for no: n\n"
          ]
        }
      ]
    },
    {
      "cell_type": "markdown",
      "source": [
        "## 4.4 Choose our optimizing method and calculate the optimal weight distribution of each stock"
      ],
      "metadata": {
        "id": "zphEPBlFjnuS"
      },
      "id": "zphEPBlFjnuS"
    },
    {
      "cell_type": "code",
      "source": [
        "def optimizes(efficient_frontier_object):\n",
        "  \"\"\"\n",
        "  Accepts the EfficientFrontier object, then asks the users for the \n",
        "  method to be used for optimizing the portfolio. Handlles any misinput\n",
        "  from the users. Returns an OrderedDict of ticker symbols and their weight \n",
        "  distribution\"\n",
        "  \"\"\"\n",
        "\n",
        "  asset_weight_allocation = 0 \n",
        "\n",
        "  while True: \n",
        "    choice = input(\"To choose a method to optimize your portfolio, input '1' \"\n",
        "                   \"for the first method, '2' for the second, \"\\\n",
        "                   \"'3' for the third, or '4' for the fourth: \")\n",
        "    if choice not in ('1', '2', '3', '4'):\n",
        "      print(\"Please input either '1', '2', '3', or '4'\")\n",
        "      continue\n",
        "    elif choice == '1':\n",
        "      print('Optimizing for maximum Sharpe ratio...')\n",
        "      asset_weight_allocation = efficient_frontier_object.max_sharpe()\n",
        "      print('DONE')\n",
        "      break\n",
        "    elif choice == '2':\n",
        "      print('Optimizes for minimum portfolio volatility...')\n",
        "      asset_weight_allocation = efficient_frontier_object.min_volatility()\n",
        "      print('DONE')\n",
        "      break\n",
        "    elif choice == '3':\n",
        "      print('Optimizing for efficient risk...')\n",
        "      while True:\n",
        "        try: \n",
        "          target_volatility = float(input(\"Please input your desired portfolio volatlity.\"\\\n",
        "                                          \" For example, '0.3' for at most 30% annual volatility: \"))\n",
        "        except ValueError:\n",
        "          print(\"Please enter the value in the format shown in the examples\")\n",
        "          continue\n",
        "        if float(target_volatility) < 0.0 or target_volatility > 1:\n",
        "          print(\"The target volatility cannot be lower than 0 or larger than 1\")\n",
        "          continue\n",
        "        else:\n",
        "          asset_weight_allocation = efficient_frontier_object.efficient_risk(target_volatility)\n",
        "          print('DONE')\n",
        "          break \n",
        "      break\n",
        "    elif choice == '4':\n",
        "      print('Optimizing for efficient return...')\n",
        "      while True:\n",
        "        try: \n",
        "          target_return = float(input(\"Please input your desired portfolio return.\"\\\n",
        "                                        \" For example, '0.3' for at least 30% annual return: \"))\n",
        "        except ValueError:\n",
        "          print(\"Please enter the value in the format shown in the examples\")\n",
        "          continue\n",
        "        if float(target_return) < 0.0 or target_return > 1:\n",
        "          print(\"The target volatility cannot be lower than 0 or larger than 1\")\n",
        "          continue\n",
        "        else:\n",
        "          asset_weight_allocation = efficient_frontier_object.efficient_return(target_return)\n",
        "          break \n",
        "          print('DONE')\n",
        "      break\n",
        "\n",
        "  return asset_weight_allocation\n",
        "\n",
        "\n",
        "efficient_frontier_object = get_efficient_frontier_object(mu, covariance_matrix, weight_bounds)\n",
        "asset_weight_allocation = optimizes(efficient_frontier_object)"
      ],
      "metadata": {
        "id": "pYK0oEsnjkyS",
        "colab": {
          "base_uri": "https://localhost:8080/"
        },
        "outputId": "a75fc701-f447-475a-d14e-dbf420a5d19c"
      },
      "id": "pYK0oEsnjkyS",
      "execution_count": 24,
      "outputs": [
        {
          "name": "stdout",
          "output_type": "stream",
          "text": [
            "To choose a method to optimize your portfolio, input '1' for the first method, '2' for the second, '3' for the third, or '4' for the fourth: 4\n",
            "Optimizing for efficient return...\n",
            "Please input your desired portfolio return. For example, '0.3' for at least 30% annual return: 0.2\n"
          ]
        }
      ]
    },
    {
      "cell_type": "markdown",
      "source": [
        "## 4.5 Calculate the optimal discrete allocation of each ticker"
      ],
      "metadata": {
        "id": "8mJ4bM70JyXU"
      },
      "id": "8mJ4bM70JyXU"
    },
    {
      "cell_type": "code",
      "metadata": {
        "id": "YswAsYzjTW_H",
        "colab": {
          "base_uri": "https://localhost:8080/"
        },
        "outputId": "c1f348f7-c720-4bac-da6f-41b5e86759c2"
      },
      "source": [
        "def get_discrete_allocation (asset_weight_allocation):\n",
        "  \"\"\"\n",
        "  Accepts the OrderedDict of asset_weight_allocation, finds the latest prices of\n",
        "  each security in the portfolio and calculate the discrete allocation of each \n",
        "  ticker. Returns a tuple that includes a dicitonary of (KEYS) ticker symbols\n",
        "  and (VALUES) of INT, and FLOAT remaining money.\n",
        "  \"\"\"\n",
        "\n",
        "  latest_prices = get_latest_prices(daily_adjclose_df)\n",
        "  discrete_allocation_object = DiscreteAllocation(asset_weight_allocation, latest_prices, total_portfolio_value)\n",
        "  greedy_allocation = discrete_allocation_object.greedy_portfolio()\n",
        "\n",
        "  return greedy_allocation\n",
        "\n",
        "\n",
        "portfolio_discrete_allocation = get_discrete_allocation (asset_weight_allocation)\n",
        "print(portfolio_discrete_allocation)\n"
      ],
      "id": "YswAsYzjTW_H",
      "execution_count": 25,
      "outputs": [
        {
          "output_type": "stream",
          "name": "stdout",
          "text": [
            "({'LYFT': 504, 'ZM': 15, 'FB': 19, 'AAL': 317, 'MGM': 158, 'WFC': 168}, 10.32742691040039)\n"
          ]
        }
      ]
    },
    {
      "cell_type": "markdown",
      "source": [
        "# Step 5. Display the results and expected performance of the optimized portfolio"
      ],
      "metadata": {
        "id": "fh_X1rPQHxR1"
      },
      "id": "fh_X1rPQHxR1"
    },
    {
      "cell_type": "code",
      "source": [
        "def display_weight_allocation(portfolio_discrete_allocation):\n",
        "  \"\"\"\n",
        "  Accepts the OrderedDict discrete portfolio allocaion and prints out the\n",
        "  information to the users \n",
        "  \"\"\"\n",
        "\n",
        "  print(f'With ${total_portfolio_value:,.0f} you could buy:')\n",
        "  for ticker, number_of_stock in portfolio_discrete_allocation[0].items():\n",
        "    print(f'{number_of_stock} {ticker}')\n",
        "  print(f'and still have ${portfolio_discrete_allocation[1]:.2f} left')\n",
        "\n",
        "display_weight_allocation(portfolio_discrete_allocation)"
      ],
      "metadata": {
        "id": "RXqO6-Nu_DzV",
        "colab": {
          "base_uri": "https://localhost:8080/"
        },
        "outputId": "e0893e1c-7845-41e9-ffc6-3597ed5c5421"
      },
      "id": "RXqO6-Nu_DzV",
      "execution_count": 26,
      "outputs": [
        {
          "output_type": "stream",
          "name": "stdout",
          "text": [
            "With $50,000 you could buy:\n",
            "504 LYFT\n",
            "15 ZM\n",
            "19 FB\n",
            "317 AAL\n",
            "158 MGM\n",
            "168 WFC\n",
            "and still have $10.33 left\n"
          ]
        }
      ]
    },
    {
      "cell_type": "code",
      "metadata": {
        "id": "CEGlkwrsPFjh",
        "colab": {
          "base_uri": "https://localhost:8080/"
        },
        "outputId": "de713049-2d7f-49e2-a21d-4364cc968b10"
      },
      "source": [
        "def print_portfolio_performance():\n",
        "  \"\"\"\n",
        "  Calculates the expected annual return and volatility of the portfolio, and \n",
        "  its Sharpe ratio, and print out the information to the users\n",
        "  \"\"\"\n",
        "\n",
        "  performance = efficient_frontier_object.portfolio_performance(verbose=False)\n",
        "  print(f'Expected annual return of this portfolio: {performance[0]*100:.1f}%')\n",
        "  print(f'Expected annual volatility of this portfolio: {performance[1]*100:.1f}%')\n",
        "  print(f'Sharpe Ratio: {performance[2]:.2f}')\n",
        "\n",
        "print_portfolio_performance()"
      ],
      "id": "CEGlkwrsPFjh",
      "execution_count": 27,
      "outputs": [
        {
          "output_type": "stream",
          "name": "stdout",
          "text": [
            "Expected annual return of this portfolio: 20.0%\n",
            "Expected annual volatility of this portfolio: 30.3%\n",
            "Sharpe Ratio: 0.59\n"
          ]
        }
      ]
    }
  ]
}